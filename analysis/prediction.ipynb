{
 "cells": [
  {
   "cell_type": "code",
   "id": "initial_id",
   "metadata": {
    "collapsed": true,
    "ExecuteTime": {
     "end_time": "2024-04-06T15:48:20.685416Z",
     "start_time": "2024-04-06T15:48:20.681947Z"
    }
   },
   "source": [
    "import torch\n",
    "import torch.nn as nn\n",
    "import torch.optim as optim\n",
    "import pandas as pd\n",
    "from sklearn.preprocessing import StandardScaler\n",
    "from sklearn.model_selection import train_test_split\n",
    "from sklearn.metrics import mean_squared_error\n",
    "from datetime import date\n",
    "import holidays\n",
    "from datetime import datetime"
   ],
   "outputs": [],
   "execution_count": 194
  },
  {
   "metadata": {
    "ExecuteTime": {
     "end_time": "2024-04-06T15:28:55.322464Z",
     "start_time": "2024-04-06T15:28:55.319596Z"
    }
   },
   "cell_type": "code",
   "source": [
    "features = [\"temperature\", \"rain\", \"month\", \"day_of_month\", \"day_of_week\", \"is_national_holiday\", \"is_school_holiday\"]\n",
    "target = \"count\""
   ],
   "id": "b75fcb77c588893c",
   "outputs": [],
   "execution_count": 149
  },
  {
   "metadata": {
    "ExecuteTime": {
     "end_time": "2024-04-06T15:16:00.726144Z",
     "start_time": "2024-04-06T15:16:00.721348Z"
    }
   },
   "cell_type": "code",
   "source": "location = \"vrsic\"",
   "id": "53d380482146a295",
   "outputs": [],
   "execution_count": 104
  },
  {
   "metadata": {
    "ExecuteTime": {
     "end_time": "2024-04-06T15:16:01.371268Z",
     "start_time": "2024-04-06T15:16:01.358825Z"
    }
   },
   "cell_type": "code",
   "source": [
    "hikers_data = pd.read_csv(f\"../data/hikers/test/{location}.csv\")\n",
    "weather_data = pd.read_csv(f\"../data/weather/aggregated/{location}.csv\")"
   ],
   "id": "c193ef868d704e8b",
   "outputs": [],
   "execution_count": 105
  },
  {
   "metadata": {
    "ExecuteTime": {
     "end_time": "2024-04-06T15:16:02.186680Z",
     "start_time": "2024-04-06T15:16:02.182726Z"
    }
   },
   "cell_type": "code",
   "source": [
    "# Cut off hikers data at 2024\n",
    "hikers_data_cut = hikers_data[hikers_data[\"datum\"] < \"2024-01-01\"]"
   ],
   "id": "78d7ff67257f2c05",
   "outputs": [],
   "execution_count": 106
  },
  {
   "metadata": {
    "ExecuteTime": {
     "end_time": "2024-04-06T15:16:03.178677Z",
     "start_time": "2024-04-06T15:16:03.173397Z"
    }
   },
   "cell_type": "code",
   "source": [
    "# List of national holidays\n",
    "national_holidays = holidays.SI()"
   ],
   "id": "2c01a36ed6b2f159",
   "outputs": [],
   "execution_count": 107
  },
  {
   "metadata": {
    "ExecuteTime": {
     "end_time": "2024-04-06T15:16:03.874513Z",
     "start_time": "2024-04-06T15:16:03.861288Z"
    }
   },
   "cell_type": "code",
   "source": [
    "# List of school holidays and code to check if a date is holiday\n",
    "\n",
    "school_holidays = [[\"2021-12-25\", \"2022-01-02\"], [\"2022-02-21\", \"2022-02-25\"], [\"2022-02-28\", \"2022-03-04\"], [\"2022-04-27\", \"2022-05-02\"], [\"2022-06-25\", \"2022-08-31\"], [\"2022-10-31\", \"2022-11-04\"], [\"2022-12-26\", \"2023-01-02\"], [\"2023-01-30\", \"2023-02-01\"], [\"2023-02-06\", \"2023-02-10\"], [\"2023-04-27\", \"2023-05-02\"], [\"2023-06-26\", \"2023-08-31\"],[\"2023-10-30\", \"2023-11-3\"], [\"2023-12-25\", \"2024-01-02\"],[\"2024-02-19\", \"2024-02-23\"], [\"2024-02-26\", \"2023-03-01\"], [\"2024-4-27\", \"2023-05-02\"], [\"2024-06-26\", \"2024-08-31\"]]\n",
    "school_holidays = [[datetime.strptime(start, \"%Y-%m-%d\"), datetime.strptime(end, \"%Y-%m-%d\")] for start, end in school_holidays]\n",
    "\n",
    "def is_school_holiday(date):\n",
    "    for start, end in school_holidays:\n",
    "        if start <= date <= end:\n",
    "            return True\n",
    "    return False"
   ],
   "id": "1f836ac2d5500087",
   "outputs": [],
   "execution_count": 108
  },
  {
   "metadata": {
    "ExecuteTime": {
     "end_time": "2024-04-06T15:26:14.519626Z",
     "start_time": "2024-04-06T15:26:12.772289Z"
    }
   },
   "cell_type": "code",
   "source": [
    "# Calculate our features and prepare data\n",
    "\n",
    "def prepare_data(row):\n",
    "    dt = datetime.fromisoformat(row[\"datetime\"])\n",
    "    row[\"month\"] = dt.month\n",
    "    row[\"day_of_month\"] = dt.day\n",
    "    row[\"day_of_week\"] = dt.weekday()\n",
    "    row[\"is_national_holiday\"] = dt in national_holidays\n",
    "    row[\"is_school_holiday\"] = is_school_holiday(dt)\n",
    "\n",
    "    if not (counts := hikers_data_cut.loc[hikers_data_cut[\"datum\"] == row[\"datetime\"]]).empty:\n",
    "        row[\"count\"] = counts[\"vhodi\"].values[0] + counts[\"izhodi\"].values[0]\n",
    "\n",
    "    return row\n",
    "\n",
    "data = weather_data.apply(prepare_data, axis=1).dropna()"
   ],
   "id": "c42f916f91cf1230",
   "outputs": [],
   "execution_count": 146
  },
  {
   "metadata": {
    "ExecuteTime": {
     "end_time": "2024-04-06T15:26:27.540719Z",
     "start_time": "2024-04-06T15:26:27.527731Z"
    }
   },
   "cell_type": "code",
   "source": "data",
   "id": "89e23bf0b08cc187",
   "outputs": [
    {
     "data": {
      "text/plain": [
       "      count    datetime  day_of_month  day_of_week  is_national_holiday  \\\n",
       "195   352.0  2022-07-15            15            4                False   \n",
       "196   677.0  2022-07-16            16            5                False   \n",
       "197  1565.0  2022-07-17            17            6                False   \n",
       "198   954.0  2022-07-18            18            0                False   \n",
       "199  1016.0  2022-07-19            19            1                False   \n",
       "..      ...         ...           ...          ...                  ...   \n",
       "725     7.0  2023-12-27            27            2                False   \n",
       "726     0.0  2023-12-28            28            3                False   \n",
       "727    25.0  2023-12-29            29            4                False   \n",
       "728    34.0  2023-12-30            30            5                False   \n",
       "729     6.0  2023-12-31            31            6                False   \n",
       "\n",
       "     is_school_holiday location  month      rain  temperature  \n",
       "195               True    vrsic      7  0.454167    14.934028  \n",
       "196               True    vrsic      7  0.364583    13.847917  \n",
       "197               True    vrsic      7  0.000000    13.490278  \n",
       "198               True    vrsic      7  0.000000    14.661111  \n",
       "199               True    vrsic      7  0.000000    16.581250  \n",
       "..                 ...      ...    ...       ...          ...  \n",
       "725               True    vrsic     12  0.000000     1.984722  \n",
       "726               True    vrsic     12  0.000000    -2.121528  \n",
       "727               True    vrsic     12  0.000000    -1.415972  \n",
       "728               True    vrsic     12  0.000000    -0.792361  \n",
       "729               True    vrsic     12  0.529167     0.259722  \n",
       "\n",
       "[324 rows x 10 columns]"
      ],
      "text/html": [
       "<div>\n",
       "<style scoped>\n",
       "    .dataframe tbody tr th:only-of-type {\n",
       "        vertical-align: middle;\n",
       "    }\n",
       "\n",
       "    .dataframe tbody tr th {\n",
       "        vertical-align: top;\n",
       "    }\n",
       "\n",
       "    .dataframe thead th {\n",
       "        text-align: right;\n",
       "    }\n",
       "</style>\n",
       "<table border=\"1\" class=\"dataframe\">\n",
       "  <thead>\n",
       "    <tr style=\"text-align: right;\">\n",
       "      <th></th>\n",
       "      <th>count</th>\n",
       "      <th>datetime</th>\n",
       "      <th>day_of_month</th>\n",
       "      <th>day_of_week</th>\n",
       "      <th>is_national_holiday</th>\n",
       "      <th>is_school_holiday</th>\n",
       "      <th>location</th>\n",
       "      <th>month</th>\n",
       "      <th>rain</th>\n",
       "      <th>temperature</th>\n",
       "    </tr>\n",
       "  </thead>\n",
       "  <tbody>\n",
       "    <tr>\n",
       "      <th>195</th>\n",
       "      <td>352.0</td>\n",
       "      <td>2022-07-15</td>\n",
       "      <td>15</td>\n",
       "      <td>4</td>\n",
       "      <td>False</td>\n",
       "      <td>True</td>\n",
       "      <td>vrsic</td>\n",
       "      <td>7</td>\n",
       "      <td>0.454167</td>\n",
       "      <td>14.934028</td>\n",
       "    </tr>\n",
       "    <tr>\n",
       "      <th>196</th>\n",
       "      <td>677.0</td>\n",
       "      <td>2022-07-16</td>\n",
       "      <td>16</td>\n",
       "      <td>5</td>\n",
       "      <td>False</td>\n",
       "      <td>True</td>\n",
       "      <td>vrsic</td>\n",
       "      <td>7</td>\n",
       "      <td>0.364583</td>\n",
       "      <td>13.847917</td>\n",
       "    </tr>\n",
       "    <tr>\n",
       "      <th>197</th>\n",
       "      <td>1565.0</td>\n",
       "      <td>2022-07-17</td>\n",
       "      <td>17</td>\n",
       "      <td>6</td>\n",
       "      <td>False</td>\n",
       "      <td>True</td>\n",
       "      <td>vrsic</td>\n",
       "      <td>7</td>\n",
       "      <td>0.000000</td>\n",
       "      <td>13.490278</td>\n",
       "    </tr>\n",
       "    <tr>\n",
       "      <th>198</th>\n",
       "      <td>954.0</td>\n",
       "      <td>2022-07-18</td>\n",
       "      <td>18</td>\n",
       "      <td>0</td>\n",
       "      <td>False</td>\n",
       "      <td>True</td>\n",
       "      <td>vrsic</td>\n",
       "      <td>7</td>\n",
       "      <td>0.000000</td>\n",
       "      <td>14.661111</td>\n",
       "    </tr>\n",
       "    <tr>\n",
       "      <th>199</th>\n",
       "      <td>1016.0</td>\n",
       "      <td>2022-07-19</td>\n",
       "      <td>19</td>\n",
       "      <td>1</td>\n",
       "      <td>False</td>\n",
       "      <td>True</td>\n",
       "      <td>vrsic</td>\n",
       "      <td>7</td>\n",
       "      <td>0.000000</td>\n",
       "      <td>16.581250</td>\n",
       "    </tr>\n",
       "    <tr>\n",
       "      <th>...</th>\n",
       "      <td>...</td>\n",
       "      <td>...</td>\n",
       "      <td>...</td>\n",
       "      <td>...</td>\n",
       "      <td>...</td>\n",
       "      <td>...</td>\n",
       "      <td>...</td>\n",
       "      <td>...</td>\n",
       "      <td>...</td>\n",
       "      <td>...</td>\n",
       "    </tr>\n",
       "    <tr>\n",
       "      <th>725</th>\n",
       "      <td>7.0</td>\n",
       "      <td>2023-12-27</td>\n",
       "      <td>27</td>\n",
       "      <td>2</td>\n",
       "      <td>False</td>\n",
       "      <td>True</td>\n",
       "      <td>vrsic</td>\n",
       "      <td>12</td>\n",
       "      <td>0.000000</td>\n",
       "      <td>1.984722</td>\n",
       "    </tr>\n",
       "    <tr>\n",
       "      <th>726</th>\n",
       "      <td>0.0</td>\n",
       "      <td>2023-12-28</td>\n",
       "      <td>28</td>\n",
       "      <td>3</td>\n",
       "      <td>False</td>\n",
       "      <td>True</td>\n",
       "      <td>vrsic</td>\n",
       "      <td>12</td>\n",
       "      <td>0.000000</td>\n",
       "      <td>-2.121528</td>\n",
       "    </tr>\n",
       "    <tr>\n",
       "      <th>727</th>\n",
       "      <td>25.0</td>\n",
       "      <td>2023-12-29</td>\n",
       "      <td>29</td>\n",
       "      <td>4</td>\n",
       "      <td>False</td>\n",
       "      <td>True</td>\n",
       "      <td>vrsic</td>\n",
       "      <td>12</td>\n",
       "      <td>0.000000</td>\n",
       "      <td>-1.415972</td>\n",
       "    </tr>\n",
       "    <tr>\n",
       "      <th>728</th>\n",
       "      <td>34.0</td>\n",
       "      <td>2023-12-30</td>\n",
       "      <td>30</td>\n",
       "      <td>5</td>\n",
       "      <td>False</td>\n",
       "      <td>True</td>\n",
       "      <td>vrsic</td>\n",
       "      <td>12</td>\n",
       "      <td>0.000000</td>\n",
       "      <td>-0.792361</td>\n",
       "    </tr>\n",
       "    <tr>\n",
       "      <th>729</th>\n",
       "      <td>6.0</td>\n",
       "      <td>2023-12-31</td>\n",
       "      <td>31</td>\n",
       "      <td>6</td>\n",
       "      <td>False</td>\n",
       "      <td>True</td>\n",
       "      <td>vrsic</td>\n",
       "      <td>12</td>\n",
       "      <td>0.529167</td>\n",
       "      <td>0.259722</td>\n",
       "    </tr>\n",
       "  </tbody>\n",
       "</table>\n",
       "<p>324 rows × 10 columns</p>\n",
       "</div>"
      ]
     },
     "execution_count": 147,
     "metadata": {},
     "output_type": "execute_result"
    }
   ],
   "execution_count": 147
  },
  {
   "metadata": {
    "ExecuteTime": {
     "end_time": "2024-04-06T15:28:59.116058Z",
     "start_time": "2024-04-06T15:28:59.111073Z"
    }
   },
   "cell_type": "code",
   "source": [
    "# Prepare x and y data\n",
    "x_data = data[features]\n",
    "y_data = data[target]"
   ],
   "id": "13879605230ba04",
   "outputs": [],
   "execution_count": 150
  },
  {
   "metadata": {
    "ExecuteTime": {
     "end_time": "2024-04-06T15:29:03.810782Z",
     "start_time": "2024-04-06T15:29:03.800588Z"
    }
   },
   "cell_type": "code",
   "source": "x_data",
   "id": "d6183f5baf3841b6",
   "outputs": [
    {
     "data": {
      "text/plain": [
       "     temperature      rain  month  day_of_month  day_of_week  \\\n",
       "195    14.934028  0.454167      7            15            4   \n",
       "196    13.847917  0.364583      7            16            5   \n",
       "197    13.490278  0.000000      7            17            6   \n",
       "198    14.661111  0.000000      7            18            0   \n",
       "199    16.581250  0.000000      7            19            1   \n",
       "..           ...       ...    ...           ...          ...   \n",
       "725     1.984722  0.000000     12            27            2   \n",
       "726    -2.121528  0.000000     12            28            3   \n",
       "727    -1.415972  0.000000     12            29            4   \n",
       "728    -0.792361  0.000000     12            30            5   \n",
       "729     0.259722  0.529167     12            31            6   \n",
       "\n",
       "     is_national_holiday  is_school_holiday  \n",
       "195                False               True  \n",
       "196                False               True  \n",
       "197                False               True  \n",
       "198                False               True  \n",
       "199                False               True  \n",
       "..                   ...                ...  \n",
       "725                False               True  \n",
       "726                False               True  \n",
       "727                False               True  \n",
       "728                False               True  \n",
       "729                False               True  \n",
       "\n",
       "[324 rows x 7 columns]"
      ],
      "text/html": [
       "<div>\n",
       "<style scoped>\n",
       "    .dataframe tbody tr th:only-of-type {\n",
       "        vertical-align: middle;\n",
       "    }\n",
       "\n",
       "    .dataframe tbody tr th {\n",
       "        vertical-align: top;\n",
       "    }\n",
       "\n",
       "    .dataframe thead th {\n",
       "        text-align: right;\n",
       "    }\n",
       "</style>\n",
       "<table border=\"1\" class=\"dataframe\">\n",
       "  <thead>\n",
       "    <tr style=\"text-align: right;\">\n",
       "      <th></th>\n",
       "      <th>temperature</th>\n",
       "      <th>rain</th>\n",
       "      <th>month</th>\n",
       "      <th>day_of_month</th>\n",
       "      <th>day_of_week</th>\n",
       "      <th>is_national_holiday</th>\n",
       "      <th>is_school_holiday</th>\n",
       "    </tr>\n",
       "  </thead>\n",
       "  <tbody>\n",
       "    <tr>\n",
       "      <th>195</th>\n",
       "      <td>14.934028</td>\n",
       "      <td>0.454167</td>\n",
       "      <td>7</td>\n",
       "      <td>15</td>\n",
       "      <td>4</td>\n",
       "      <td>False</td>\n",
       "      <td>True</td>\n",
       "    </tr>\n",
       "    <tr>\n",
       "      <th>196</th>\n",
       "      <td>13.847917</td>\n",
       "      <td>0.364583</td>\n",
       "      <td>7</td>\n",
       "      <td>16</td>\n",
       "      <td>5</td>\n",
       "      <td>False</td>\n",
       "      <td>True</td>\n",
       "    </tr>\n",
       "    <tr>\n",
       "      <th>197</th>\n",
       "      <td>13.490278</td>\n",
       "      <td>0.000000</td>\n",
       "      <td>7</td>\n",
       "      <td>17</td>\n",
       "      <td>6</td>\n",
       "      <td>False</td>\n",
       "      <td>True</td>\n",
       "    </tr>\n",
       "    <tr>\n",
       "      <th>198</th>\n",
       "      <td>14.661111</td>\n",
       "      <td>0.000000</td>\n",
       "      <td>7</td>\n",
       "      <td>18</td>\n",
       "      <td>0</td>\n",
       "      <td>False</td>\n",
       "      <td>True</td>\n",
       "    </tr>\n",
       "    <tr>\n",
       "      <th>199</th>\n",
       "      <td>16.581250</td>\n",
       "      <td>0.000000</td>\n",
       "      <td>7</td>\n",
       "      <td>19</td>\n",
       "      <td>1</td>\n",
       "      <td>False</td>\n",
       "      <td>True</td>\n",
       "    </tr>\n",
       "    <tr>\n",
       "      <th>...</th>\n",
       "      <td>...</td>\n",
       "      <td>...</td>\n",
       "      <td>...</td>\n",
       "      <td>...</td>\n",
       "      <td>...</td>\n",
       "      <td>...</td>\n",
       "      <td>...</td>\n",
       "    </tr>\n",
       "    <tr>\n",
       "      <th>725</th>\n",
       "      <td>1.984722</td>\n",
       "      <td>0.000000</td>\n",
       "      <td>12</td>\n",
       "      <td>27</td>\n",
       "      <td>2</td>\n",
       "      <td>False</td>\n",
       "      <td>True</td>\n",
       "    </tr>\n",
       "    <tr>\n",
       "      <th>726</th>\n",
       "      <td>-2.121528</td>\n",
       "      <td>0.000000</td>\n",
       "      <td>12</td>\n",
       "      <td>28</td>\n",
       "      <td>3</td>\n",
       "      <td>False</td>\n",
       "      <td>True</td>\n",
       "    </tr>\n",
       "    <tr>\n",
       "      <th>727</th>\n",
       "      <td>-1.415972</td>\n",
       "      <td>0.000000</td>\n",
       "      <td>12</td>\n",
       "      <td>29</td>\n",
       "      <td>4</td>\n",
       "      <td>False</td>\n",
       "      <td>True</td>\n",
       "    </tr>\n",
       "    <tr>\n",
       "      <th>728</th>\n",
       "      <td>-0.792361</td>\n",
       "      <td>0.000000</td>\n",
       "      <td>12</td>\n",
       "      <td>30</td>\n",
       "      <td>5</td>\n",
       "      <td>False</td>\n",
       "      <td>True</td>\n",
       "    </tr>\n",
       "    <tr>\n",
       "      <th>729</th>\n",
       "      <td>0.259722</td>\n",
       "      <td>0.529167</td>\n",
       "      <td>12</td>\n",
       "      <td>31</td>\n",
       "      <td>6</td>\n",
       "      <td>False</td>\n",
       "      <td>True</td>\n",
       "    </tr>\n",
       "  </tbody>\n",
       "</table>\n",
       "<p>324 rows × 7 columns</p>\n",
       "</div>"
      ]
     },
     "execution_count": 151,
     "metadata": {},
     "output_type": "execute_result"
    }
   ],
   "execution_count": 151
  },
  {
   "metadata": {
    "ExecuteTime": {
     "end_time": "2024-04-06T15:29:13.264856Z",
     "start_time": "2024-04-06T15:29:13.259642Z"
    }
   },
   "cell_type": "code",
   "source": "y_data",
   "id": "3295fc1ac6f471cb",
   "outputs": [
    {
     "data": {
      "text/plain": [
       "195     352.0\n",
       "196     677.0\n",
       "197    1565.0\n",
       "198     954.0\n",
       "199    1016.0\n",
       "        ...  \n",
       "725       7.0\n",
       "726       0.0\n",
       "727      25.0\n",
       "728      34.0\n",
       "729       6.0\n",
       "Name: count, Length: 324, dtype: float64"
      ]
     },
     "execution_count": 152,
     "metadata": {},
     "output_type": "execute_result"
    }
   ],
   "execution_count": 152
  },
  {
   "metadata": {
    "ExecuteTime": {
     "end_time": "2024-04-06T15:29:20.034111Z",
     "start_time": "2024-04-06T15:29:20.027543Z"
    }
   },
   "cell_type": "code",
   "source": "x_train, x_test, y_train, y_test = train_test_split(x_data, y_data, test_size=0.3, random_state=42)",
   "id": "378c059751bd3eb3",
   "outputs": [],
   "execution_count": 153
  },
  {
   "metadata": {
    "ExecuteTime": {
     "end_time": "2024-04-06T15:32:55.359321Z",
     "start_time": "2024-04-06T15:32:55.341481Z"
    }
   },
   "cell_type": "code",
   "source": [
    "# Normalize features\n",
    "scaler = StandardScaler()\n",
    "x_train_scaled = scaler.fit_transform(x_train)\n",
    "x_test_scaled = scaler.transform(x_test)"
   ],
   "id": "aecd3facbf33c0ca",
   "outputs": [],
   "execution_count": 154
  },
  {
   "metadata": {
    "ExecuteTime": {
     "end_time": "2024-04-06T15:34:03.367530Z",
     "start_time": "2024-04-06T15:34:03.360699Z"
    }
   },
   "cell_type": "code",
   "source": [
    "# Convert to PyTorch tensors\n",
    "x_train_tensor = torch.tensor(x_train_scaled, dtype=torch.float32)\n",
    "y_train_tensor = torch.tensor(y_train.values, dtype=torch.float32).view(-1, 1)\n",
    "x_test_tensor = torch.tensor(x_test_scaled, dtype=torch.float32)\n",
    "y_test_tensor = torch.tensor(y_test.values, dtype=torch.float32).view(-1, 1)"
   ],
   "id": "dff027d786534d04",
   "outputs": [],
   "execution_count": 155
  },
  {
   "metadata": {
    "ExecuteTime": {
     "end_time": "2024-04-06T15:35:07.310166Z",
     "start_time": "2024-04-06T15:35:07.304760Z"
    }
   },
   "cell_type": "code",
   "source": [
    "class HikerPredictor(nn.Module):\n",
    "    def __init__(self, input_size, hidden_size, output_size):\n",
    "        super(HikerPredictor, self).__init__()\n",
    "        self.fc1 = nn.Linear(input_size, hidden_size)\n",
    "        self.relu = nn.ReLU()\n",
    "        self.fc2 = nn.Linear(hidden_size, output_size)\n",
    "\n",
    "    def forward(self, x):\n",
    "        x = self.fc1(x)\n",
    "        x = self.relu(x)\n",
    "        x = self.fc2(x)\n",
    "        return x"
   ],
   "id": "e2b02239cf789621",
   "outputs": [],
   "execution_count": 160
  },
  {
   "metadata": {
    "ExecuteTime": {
     "end_time": "2024-04-06T15:35:34.665037Z",
     "start_time": "2024-04-06T15:35:34.659866Z"
    }
   },
   "cell_type": "code",
   "source": [
    "# Instantiate the model\n",
    "input_size = len(features)\n",
    "hidden_size = 64\n",
    "output_size = 1\n",
    "model = HikerPredictor(input_size, hidden_size, output_size)"
   ],
   "id": "bb790d901eb714d5",
   "outputs": [],
   "execution_count": 161
  },
  {
   "metadata": {
    "ExecuteTime": {
     "end_time": "2024-04-06T15:35:36.463421Z",
     "start_time": "2024-04-06T15:35:35.170985Z"
    }
   },
   "cell_type": "code",
   "source": [
    "# Define loss function and optimizer\n",
    "criterion = nn.MSELoss()\n",
    "optimizer = optim.Adam(model.parameters(), lr=0.001)"
   ],
   "id": "692e2a7521e364b1",
   "outputs": [],
   "execution_count": 162
  },
  {
   "metadata": {
    "ExecuteTime": {
     "end_time": "2024-04-06T15:46:10.295317Z",
     "start_time": "2024-04-06T15:44:04.898339Z"
    }
   },
   "cell_type": "code",
   "source": [
    "# Training loop\n",
    "num_epochs = 100000\n",
    "for epoch in range(num_epochs):\n",
    "    optimizer.zero_grad()\n",
    "    outputs = model(x_train_tensor)\n",
    "    loss = criterion(outputs, y_train_tensor)\n",
    "    loss.backward()\n",
    "    optimizer.step()"
   ],
   "id": "f9bf943e24acdf62",
   "outputs": [],
   "execution_count": 189
  },
  {
   "metadata": {
    "ExecuteTime": {
     "end_time": "2024-04-06T15:46:41.969701Z",
     "start_time": "2024-04-06T15:46:41.965741Z"
    }
   },
   "cell_type": "code",
   "source": [
    "# Evaluate on test set\n",
    "with torch.no_grad():\n",
    "    model.eval()\n",
    "    test_predictions = model(x_test_tensor).numpy()"
   ],
   "id": "c2acd5e35ab4249",
   "outputs": [],
   "execution_count": 190
  },
  {
   "metadata": {
    "ExecuteTime": {
     "end_time": "2024-04-06T15:46:43.285638Z",
     "start_time": "2024-04-06T15:46:43.281344Z"
    }
   },
   "cell_type": "code",
   "source": [
    "# Calculate test RMSE (Root Mean Squared Error)\n",
    "rmse = ((test_predictions - y_test.values) ** 2).mean() ** 0.5\n",
    "print(f\"Test RMSE: {rmse:.2f}\")"
   ],
   "id": "2945388848b8fc3a",
   "outputs": [
    {
     "name": "stdout",
     "output_type": "stream",
     "text": [
      "Test RMSE: 1270.76\n"
     ]
    }
   ],
   "execution_count": 191
  },
  {
   "metadata": {
    "ExecuteTime": {
     "end_time": "2024-04-06T15:49:36.266324Z",
     "start_time": "2024-04-06T15:49:36.257811Z"
    }
   },
   "cell_type": "code",
   "source": [
    "predictions = model(x_test_tensor)\n",
    "mse = mean_squared_error(y_test_tensor.detach().numpy(), predictions.detach().numpy())\n",
    "print(f'MSE: {mse}')"
   ],
   "id": "13f2d6050b46d882",
   "outputs": [
    {
     "name": "stdout",
     "output_type": "stream",
     "text": [
      "MSE: 903973.25\n"
     ]
    }
   ],
   "execution_count": 198
  },
  {
   "metadata": {
    "ExecuteTime": {
     "end_time": "2024-04-06T15:46:46.333113Z",
     "start_time": "2024-04-06T15:46:46.325614Z"
    }
   },
   "cell_type": "code",
   "source": [
    "# Test the model\n",
    "testing_date = \"2023-08-15\"\n",
    "testing_data = data.loc[data[\"datetime\"] == testing_date]\n",
    "\n",
    "testing_parameters = scaler.transform(testing_data[features])\n",
    "\n",
    "with torch.no_grad():\n",
    "    input_features = torch.tensor([testing_parameters], dtype=torch.float32)\n",
    "    predicted_count = model(input_features)"
   ],
   "id": "de2f3e9c6d783cf7",
   "outputs": [],
   "execution_count": 192
  },
  {
   "metadata": {
    "ExecuteTime": {
     "end_time": "2024-04-06T15:46:47.643331Z",
     "start_time": "2024-04-06T15:46:47.636384Z"
    }
   },
   "cell_type": "code",
   "source": "predicted_count",
   "id": "9a71912aff5d5eea",
   "outputs": [
    {
     "data": {
      "text/plain": [
       "tensor([[[1845.3959]]])"
      ]
     },
     "execution_count": 193,
     "metadata": {},
     "output_type": "execute_result"
    }
   ],
   "execution_count": 193
  },
  {
   "metadata": {},
   "cell_type": "code",
   "outputs": [],
   "execution_count": null,
   "source": "",
   "id": "ea07d655ca7f2ad8"
  }
 ],
 "metadata": {
  "kernelspec": {
   "display_name": "Python 3",
   "language": "python",
   "name": "python3"
  },
  "language_info": {
   "codemirror_mode": {
    "name": "ipython",
    "version": 2
   },
   "file_extension": ".py",
   "mimetype": "text/x-python",
   "name": "python",
   "nbconvert_exporter": "python",
   "pygments_lexer": "ipython2",
   "version": "2.7.6"
  }
 },
 "nbformat": 4,
 "nbformat_minor": 5
}
