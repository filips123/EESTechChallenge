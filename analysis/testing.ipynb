{
 "cells": [
  {
   "cell_type": "code",
   "id": "initial_id",
   "metadata": {
    "collapsed": true,
    "ExecuteTime": {
     "end_time": "2024-04-06T17:38:28.915427Z",
     "start_time": "2024-04-06T17:38:25.195485Z"
    }
   },
   "source": [
    "import torch\n",
    "import torch.nn as nn\n",
    "import torch.optim as optim\n",
    "import pandas as pd\n",
    "from sklearn.preprocessing import StandardScaler\n",
    "from sklearn.model_selection import train_test_split\n",
    "from sklearn.metrics import mean_squared_error\n",
    "from datetime import date\n",
    "import holidays\n",
    "from datetime import datetime"
   ],
   "outputs": [],
   "execution_count": 1
  },
  {
   "cell_type": "code",
   "id": "b75fcb77c588893c",
   "metadata": {
    "ExecuteTime": {
     "end_time": "2024-04-06T17:38:28.920670Z",
     "start_time": "2024-04-06T17:38:28.916422Z"
    }
   },
   "source": [
    "features = [\"temperature\", \"rain\", \"month\", \"day_of_month\", \"day_of_week\", \"is_national_holiday\", \"is_school_holiday\"]\n",
    "target = \"count\""
   ],
   "outputs": [],
   "execution_count": 2
  },
  {
   "cell_type": "code",
   "id": "53d380482146a295",
   "metadata": {
    "ExecuteTime": {
     "end_time": "2024-04-06T17:38:28.930864Z",
     "start_time": "2024-04-06T17:38:28.921665Z"
    }
   },
   "source": [
    "location = \"vrsic\""
   ],
   "outputs": [],
   "execution_count": 3
  },
  {
   "cell_type": "code",
   "id": "c193ef868d704e8b",
   "metadata": {
    "ExecuteTime": {
     "end_time": "2024-04-06T17:38:28.944777Z",
     "start_time": "2024-04-06T17:38:28.931873Z"
    }
   },
   "source": [
    "hikers_data = pd.read_csv(f\"../data/hikers/test/{location}.csv\")\n",
    "weather_data = pd.read_csv(f\"../data/weather/aggregated/{location}.csv\")"
   ],
   "outputs": [],
   "execution_count": 4
  },
  {
   "cell_type": "code",
   "id": "2c01a36ed6b2f159",
   "metadata": {
    "ExecuteTime": {
     "end_time": "2024-04-06T17:38:29.075421Z",
     "start_time": "2024-04-06T17:38:28.946770Z"
    }
   },
   "source": [
    "# List of national holidays\n",
    "national_holidays = holidays.SI()"
   ],
   "outputs": [],
   "execution_count": 5
  },
  {
   "cell_type": "code",
   "id": "1f836ac2d5500087",
   "metadata": {
    "ExecuteTime": {
     "end_time": "2024-04-06T17:38:29.083377Z",
     "start_time": "2024-04-06T17:38:29.076421Z"
    }
   },
   "source": [
    "# List of school holidays and code to check if a date is holiday\n",
    "\n",
    "school_holidays = [[\"2021-12-25\", \"2022-01-02\"], [\"2022-02-21\", \"2022-02-25\"], [\"2022-02-28\", \"2022-03-04\"], [\"2022-04-27\", \"2022-05-02\"], [\"2022-06-25\", \"2022-08-31\"], [\"2022-10-31\", \"2022-11-04\"], [\"2022-12-26\", \"2023-01-02\"], [\"2023-01-30\", \"2023-02-01\"], [\"2023-02-06\", \"2023-02-10\"], [\"2023-04-27\", \"2023-05-02\"], [\"2023-06-26\", \"2023-08-31\"],[\"2023-10-30\", \"2023-11-3\"], [\"2023-12-25\", \"2024-01-02\"],[\"2024-02-19\", \"2024-02-23\"], [\"2024-02-26\", \"2023-03-01\"], [\"2024-4-27\", \"2023-05-02\"], [\"2024-06-26\", \"2024-08-31\"]]\n",
    "school_holidays = [[datetime.strptime(start, \"%Y-%m-%d\"), datetime.strptime(end, \"%Y-%m-%d\")] for start, end in school_holidays]\n",
    "\n",
    "def is_school_holiday(date):\n",
    "    for start, end in school_holidays:\n",
    "        if start <= date <= end:\n",
    "            return True\n",
    "    return False"
   ],
   "outputs": [],
   "execution_count": 6
  },
  {
   "cell_type": "code",
   "id": "c42f916f91cf1230",
   "metadata": {
    "ExecuteTime": {
     "end_time": "2024-04-06T17:38:37.954539Z",
     "start_time": "2024-04-06T17:38:35.016756Z"
    }
   },
   "source": [
    "# Calculate our features and prepare data\n",
    "\n",
    "def prepare_data(row):\n",
    "    dt = datetime.fromisoformat(row[\"datetime\"])\n",
    "    row[\"month\"] = dt.month\n",
    "    row[\"day_of_month\"] = dt.day\n",
    "    row[\"day_of_week\"] = dt.weekday()\n",
    "    row[\"is_national_holiday\"] = dt in national_holidays\n",
    "    row[\"is_school_holiday\"] = is_school_holiday(dt)\n",
    "\n",
    "    if not (counts := hikers_data.loc[hikers_data[\"datum\"] == row[\"datetime\"]]).empty:\n",
    "        row[\"count\"] = counts[\"vhodi\"].values[0] + counts[\"izhodi\"].values[0]\n",
    "\n",
    "    return row\n",
    "\n",
    "data = weather_data.apply(prepare_data, axis=1).dropna()"
   ],
   "outputs": [],
   "execution_count": 7
  },
  {
   "cell_type": "code",
   "id": "89e23bf0b08cc187",
   "metadata": {
    "ExecuteTime": {
     "end_time": "2024-04-06T17:38:38.665046Z",
     "start_time": "2024-04-06T17:38:38.643619Z"
    }
   },
   "source": "data",
   "outputs": [
    {
     "data": {
      "text/plain": [
       "      count    datetime  day_of_month  day_of_week  is_national_holiday  \\\n",
       "195   352.0  2022-07-15            15            4                False   \n",
       "196   677.0  2022-07-16            16            5                False   \n",
       "197  1565.0  2022-07-17            17            6                False   \n",
       "198   954.0  2022-07-18            18            0                False   \n",
       "199  1016.0  2022-07-19            19            1                False   \n",
       "..      ...         ...           ...          ...                  ...   \n",
       "815     0.0  2024-03-26            26            1                False   \n",
       "816     0.0  2024-03-27            27            2                False   \n",
       "817     0.0  2024-03-28            28            3                False   \n",
       "818     0.0  2024-03-29            29            4                False   \n",
       "819     0.0  2024-03-30            30            5                False   \n",
       "\n",
       "     is_school_holiday location  month      rain  temperature  \n",
       "195               True    vrsic      7  0.454167    14.934028  \n",
       "196               True    vrsic      7  0.364583    13.847917  \n",
       "197               True    vrsic      7  0.000000    13.490278  \n",
       "198               True    vrsic      7  0.000000    14.661111  \n",
       "199               True    vrsic      7  0.000000    16.581250  \n",
       "..                 ...      ...    ...       ...          ...  \n",
       "815              False    vrsic      3  0.106250    -0.842361  \n",
       "816              False    vrsic      3  0.837500     2.068056  \n",
       "817              False    vrsic      3  0.756250    -0.504861  \n",
       "818              False    vrsic      3  0.091667     2.828472  \n",
       "819              False    vrsic      3  0.002083     4.611111  \n",
       "\n",
       "[414 rows x 10 columns]"
      ],
      "text/html": [
       "<div>\n",
       "<style scoped>\n",
       "    .dataframe tbody tr th:only-of-type {\n",
       "        vertical-align: middle;\n",
       "    }\n",
       "\n",
       "    .dataframe tbody tr th {\n",
       "        vertical-align: top;\n",
       "    }\n",
       "\n",
       "    .dataframe thead th {\n",
       "        text-align: right;\n",
       "    }\n",
       "</style>\n",
       "<table border=\"1\" class=\"dataframe\">\n",
       "  <thead>\n",
       "    <tr style=\"text-align: right;\">\n",
       "      <th></th>\n",
       "      <th>count</th>\n",
       "      <th>datetime</th>\n",
       "      <th>day_of_month</th>\n",
       "      <th>day_of_week</th>\n",
       "      <th>is_national_holiday</th>\n",
       "      <th>is_school_holiday</th>\n",
       "      <th>location</th>\n",
       "      <th>month</th>\n",
       "      <th>rain</th>\n",
       "      <th>temperature</th>\n",
       "    </tr>\n",
       "  </thead>\n",
       "  <tbody>\n",
       "    <tr>\n",
       "      <th>195</th>\n",
       "      <td>352.0</td>\n",
       "      <td>2022-07-15</td>\n",
       "      <td>15</td>\n",
       "      <td>4</td>\n",
       "      <td>False</td>\n",
       "      <td>True</td>\n",
       "      <td>vrsic</td>\n",
       "      <td>7</td>\n",
       "      <td>0.454167</td>\n",
       "      <td>14.934028</td>\n",
       "    </tr>\n",
       "    <tr>\n",
       "      <th>196</th>\n",
       "      <td>677.0</td>\n",
       "      <td>2022-07-16</td>\n",
       "      <td>16</td>\n",
       "      <td>5</td>\n",
       "      <td>False</td>\n",
       "      <td>True</td>\n",
       "      <td>vrsic</td>\n",
       "      <td>7</td>\n",
       "      <td>0.364583</td>\n",
       "      <td>13.847917</td>\n",
       "    </tr>\n",
       "    <tr>\n",
       "      <th>197</th>\n",
       "      <td>1565.0</td>\n",
       "      <td>2022-07-17</td>\n",
       "      <td>17</td>\n",
       "      <td>6</td>\n",
       "      <td>False</td>\n",
       "      <td>True</td>\n",
       "      <td>vrsic</td>\n",
       "      <td>7</td>\n",
       "      <td>0.000000</td>\n",
       "      <td>13.490278</td>\n",
       "    </tr>\n",
       "    <tr>\n",
       "      <th>198</th>\n",
       "      <td>954.0</td>\n",
       "      <td>2022-07-18</td>\n",
       "      <td>18</td>\n",
       "      <td>0</td>\n",
       "      <td>False</td>\n",
       "      <td>True</td>\n",
       "      <td>vrsic</td>\n",
       "      <td>7</td>\n",
       "      <td>0.000000</td>\n",
       "      <td>14.661111</td>\n",
       "    </tr>\n",
       "    <tr>\n",
       "      <th>199</th>\n",
       "      <td>1016.0</td>\n",
       "      <td>2022-07-19</td>\n",
       "      <td>19</td>\n",
       "      <td>1</td>\n",
       "      <td>False</td>\n",
       "      <td>True</td>\n",
       "      <td>vrsic</td>\n",
       "      <td>7</td>\n",
       "      <td>0.000000</td>\n",
       "      <td>16.581250</td>\n",
       "    </tr>\n",
       "    <tr>\n",
       "      <th>...</th>\n",
       "      <td>...</td>\n",
       "      <td>...</td>\n",
       "      <td>...</td>\n",
       "      <td>...</td>\n",
       "      <td>...</td>\n",
       "      <td>...</td>\n",
       "      <td>...</td>\n",
       "      <td>...</td>\n",
       "      <td>...</td>\n",
       "      <td>...</td>\n",
       "    </tr>\n",
       "    <tr>\n",
       "      <th>815</th>\n",
       "      <td>0.0</td>\n",
       "      <td>2024-03-26</td>\n",
       "      <td>26</td>\n",
       "      <td>1</td>\n",
       "      <td>False</td>\n",
       "      <td>False</td>\n",
       "      <td>vrsic</td>\n",
       "      <td>3</td>\n",
       "      <td>0.106250</td>\n",
       "      <td>-0.842361</td>\n",
       "    </tr>\n",
       "    <tr>\n",
       "      <th>816</th>\n",
       "      <td>0.0</td>\n",
       "      <td>2024-03-27</td>\n",
       "      <td>27</td>\n",
       "      <td>2</td>\n",
       "      <td>False</td>\n",
       "      <td>False</td>\n",
       "      <td>vrsic</td>\n",
       "      <td>3</td>\n",
       "      <td>0.837500</td>\n",
       "      <td>2.068056</td>\n",
       "    </tr>\n",
       "    <tr>\n",
       "      <th>817</th>\n",
       "      <td>0.0</td>\n",
       "      <td>2024-03-28</td>\n",
       "      <td>28</td>\n",
       "      <td>3</td>\n",
       "      <td>False</td>\n",
       "      <td>False</td>\n",
       "      <td>vrsic</td>\n",
       "      <td>3</td>\n",
       "      <td>0.756250</td>\n",
       "      <td>-0.504861</td>\n",
       "    </tr>\n",
       "    <tr>\n",
       "      <th>818</th>\n",
       "      <td>0.0</td>\n",
       "      <td>2024-03-29</td>\n",
       "      <td>29</td>\n",
       "      <td>4</td>\n",
       "      <td>False</td>\n",
       "      <td>False</td>\n",
       "      <td>vrsic</td>\n",
       "      <td>3</td>\n",
       "      <td>0.091667</td>\n",
       "      <td>2.828472</td>\n",
       "    </tr>\n",
       "    <tr>\n",
       "      <th>819</th>\n",
       "      <td>0.0</td>\n",
       "      <td>2024-03-30</td>\n",
       "      <td>30</td>\n",
       "      <td>5</td>\n",
       "      <td>False</td>\n",
       "      <td>False</td>\n",
       "      <td>vrsic</td>\n",
       "      <td>3</td>\n",
       "      <td>0.002083</td>\n",
       "      <td>4.611111</td>\n",
       "    </tr>\n",
       "  </tbody>\n",
       "</table>\n",
       "<p>414 rows × 10 columns</p>\n",
       "</div>"
      ]
     },
     "execution_count": 8,
     "metadata": {},
     "output_type": "execute_result"
    }
   ],
   "execution_count": 8
  },
  {
   "cell_type": "code",
   "id": "13879605230ba04",
   "metadata": {
    "ExecuteTime": {
     "end_time": "2024-04-06T17:38:40.717221Z",
     "start_time": "2024-04-06T17:38:40.712157Z"
    }
   },
   "source": [
    "# Prepare x and y data\n",
    "x_data = data[features]\n",
    "y_data = data[target]"
   ],
   "outputs": [],
   "execution_count": 9
  },
  {
   "cell_type": "code",
   "id": "d6183f5baf3841b6",
   "metadata": {
    "ExecuteTime": {
     "end_time": "2024-04-06T17:38:42.213418Z",
     "start_time": "2024-04-06T17:38:42.202445Z"
    }
   },
   "source": [
    "x_data"
   ],
   "outputs": [
    {
     "data": {
      "text/plain": [
       "     temperature      rain  month  day_of_month  day_of_week  \\\n",
       "195    14.934028  0.454167      7            15            4   \n",
       "196    13.847917  0.364583      7            16            5   \n",
       "197    13.490278  0.000000      7            17            6   \n",
       "198    14.661111  0.000000      7            18            0   \n",
       "199    16.581250  0.000000      7            19            1   \n",
       "..           ...       ...    ...           ...          ...   \n",
       "815    -0.842361  0.106250      3            26            1   \n",
       "816     2.068056  0.837500      3            27            2   \n",
       "817    -0.504861  0.756250      3            28            3   \n",
       "818     2.828472  0.091667      3            29            4   \n",
       "819     4.611111  0.002083      3            30            5   \n",
       "\n",
       "     is_national_holiday  is_school_holiday  \n",
       "195                False               True  \n",
       "196                False               True  \n",
       "197                False               True  \n",
       "198                False               True  \n",
       "199                False               True  \n",
       "..                   ...                ...  \n",
       "815                False              False  \n",
       "816                False              False  \n",
       "817                False              False  \n",
       "818                False              False  \n",
       "819                False              False  \n",
       "\n",
       "[414 rows x 7 columns]"
      ],
      "text/html": [
       "<div>\n",
       "<style scoped>\n",
       "    .dataframe tbody tr th:only-of-type {\n",
       "        vertical-align: middle;\n",
       "    }\n",
       "\n",
       "    .dataframe tbody tr th {\n",
       "        vertical-align: top;\n",
       "    }\n",
       "\n",
       "    .dataframe thead th {\n",
       "        text-align: right;\n",
       "    }\n",
       "</style>\n",
       "<table border=\"1\" class=\"dataframe\">\n",
       "  <thead>\n",
       "    <tr style=\"text-align: right;\">\n",
       "      <th></th>\n",
       "      <th>temperature</th>\n",
       "      <th>rain</th>\n",
       "      <th>month</th>\n",
       "      <th>day_of_month</th>\n",
       "      <th>day_of_week</th>\n",
       "      <th>is_national_holiday</th>\n",
       "      <th>is_school_holiday</th>\n",
       "    </tr>\n",
       "  </thead>\n",
       "  <tbody>\n",
       "    <tr>\n",
       "      <th>195</th>\n",
       "      <td>14.934028</td>\n",
       "      <td>0.454167</td>\n",
       "      <td>7</td>\n",
       "      <td>15</td>\n",
       "      <td>4</td>\n",
       "      <td>False</td>\n",
       "      <td>True</td>\n",
       "    </tr>\n",
       "    <tr>\n",
       "      <th>196</th>\n",
       "      <td>13.847917</td>\n",
       "      <td>0.364583</td>\n",
       "      <td>7</td>\n",
       "      <td>16</td>\n",
       "      <td>5</td>\n",
       "      <td>False</td>\n",
       "      <td>True</td>\n",
       "    </tr>\n",
       "    <tr>\n",
       "      <th>197</th>\n",
       "      <td>13.490278</td>\n",
       "      <td>0.000000</td>\n",
       "      <td>7</td>\n",
       "      <td>17</td>\n",
       "      <td>6</td>\n",
       "      <td>False</td>\n",
       "      <td>True</td>\n",
       "    </tr>\n",
       "    <tr>\n",
       "      <th>198</th>\n",
       "      <td>14.661111</td>\n",
       "      <td>0.000000</td>\n",
       "      <td>7</td>\n",
       "      <td>18</td>\n",
       "      <td>0</td>\n",
       "      <td>False</td>\n",
       "      <td>True</td>\n",
       "    </tr>\n",
       "    <tr>\n",
       "      <th>199</th>\n",
       "      <td>16.581250</td>\n",
       "      <td>0.000000</td>\n",
       "      <td>7</td>\n",
       "      <td>19</td>\n",
       "      <td>1</td>\n",
       "      <td>False</td>\n",
       "      <td>True</td>\n",
       "    </tr>\n",
       "    <tr>\n",
       "      <th>...</th>\n",
       "      <td>...</td>\n",
       "      <td>...</td>\n",
       "      <td>...</td>\n",
       "      <td>...</td>\n",
       "      <td>...</td>\n",
       "      <td>...</td>\n",
       "      <td>...</td>\n",
       "    </tr>\n",
       "    <tr>\n",
       "      <th>815</th>\n",
       "      <td>-0.842361</td>\n",
       "      <td>0.106250</td>\n",
       "      <td>3</td>\n",
       "      <td>26</td>\n",
       "      <td>1</td>\n",
       "      <td>False</td>\n",
       "      <td>False</td>\n",
       "    </tr>\n",
       "    <tr>\n",
       "      <th>816</th>\n",
       "      <td>2.068056</td>\n",
       "      <td>0.837500</td>\n",
       "      <td>3</td>\n",
       "      <td>27</td>\n",
       "      <td>2</td>\n",
       "      <td>False</td>\n",
       "      <td>False</td>\n",
       "    </tr>\n",
       "    <tr>\n",
       "      <th>817</th>\n",
       "      <td>-0.504861</td>\n",
       "      <td>0.756250</td>\n",
       "      <td>3</td>\n",
       "      <td>28</td>\n",
       "      <td>3</td>\n",
       "      <td>False</td>\n",
       "      <td>False</td>\n",
       "    </tr>\n",
       "    <tr>\n",
       "      <th>818</th>\n",
       "      <td>2.828472</td>\n",
       "      <td>0.091667</td>\n",
       "      <td>3</td>\n",
       "      <td>29</td>\n",
       "      <td>4</td>\n",
       "      <td>False</td>\n",
       "      <td>False</td>\n",
       "    </tr>\n",
       "    <tr>\n",
       "      <th>819</th>\n",
       "      <td>4.611111</td>\n",
       "      <td>0.002083</td>\n",
       "      <td>3</td>\n",
       "      <td>30</td>\n",
       "      <td>5</td>\n",
       "      <td>False</td>\n",
       "      <td>False</td>\n",
       "    </tr>\n",
       "  </tbody>\n",
       "</table>\n",
       "<p>414 rows × 7 columns</p>\n",
       "</div>"
      ]
     },
     "execution_count": 10,
     "metadata": {},
     "output_type": "execute_result"
    }
   ],
   "execution_count": 10
  },
  {
   "cell_type": "code",
   "id": "3295fc1ac6f471cb",
   "metadata": {
    "ExecuteTime": {
     "end_time": "2024-04-06T17:38:43.065769Z",
     "start_time": "2024-04-06T17:38:43.059261Z"
    }
   },
   "source": [
    "y_data"
   ],
   "outputs": [
    {
     "data": {
      "text/plain": [
       "195     352.0\n",
       "196     677.0\n",
       "197    1565.0\n",
       "198     954.0\n",
       "199    1016.0\n",
       "        ...  \n",
       "815       0.0\n",
       "816       0.0\n",
       "817       0.0\n",
       "818       0.0\n",
       "819       0.0\n",
       "Name: count, Length: 414, dtype: float64"
      ]
     },
     "execution_count": 11,
     "metadata": {},
     "output_type": "execute_result"
    }
   ],
   "execution_count": 11
  },
  {
   "cell_type": "code",
   "id": "378c059751bd3eb3",
   "metadata": {
    "ExecuteTime": {
     "end_time": "2024-04-06T17:38:47.393157Z",
     "start_time": "2024-04-06T17:38:47.386580Z"
    }
   },
   "source": [
    "x_train, x_test, y_train, y_test = train_test_split(x_data, y_data, test_size=0.3, random_state=42)"
   ],
   "outputs": [],
   "execution_count": 12
  },
  {
   "cell_type": "code",
   "id": "aecd3facbf33c0ca",
   "metadata": {
    "ExecuteTime": {
     "end_time": "2024-04-06T17:38:48.282092Z",
     "start_time": "2024-04-06T17:38:48.270276Z"
    }
   },
   "source": [
    "# Normalize features\n",
    "scaler = StandardScaler()\n",
    "x_train_scaled = scaler.fit_transform(x_train)\n",
    "x_test_scaled = scaler.transform(x_test)"
   ],
   "outputs": [],
   "execution_count": 13
  },
  {
   "cell_type": "code",
   "id": "dff027d786534d04",
   "metadata": {
    "ExecuteTime": {
     "end_time": "2024-04-06T17:38:50.579261Z",
     "start_time": "2024-04-06T17:38:50.572395Z"
    }
   },
   "source": [
    "# Convert to PyTorch tensors\n",
    "x_train_tensor = torch.tensor(x_train_scaled, dtype=torch.float32)\n",
    "y_train_tensor = torch.tensor(y_train.values, dtype=torch.float32).view(-1, 1)\n",
    "x_test_tensor = torch.tensor(x_test_scaled, dtype=torch.float32)\n",
    "y_test_tensor = torch.tensor(y_test.values, dtype=torch.float32).view(-1, 1)"
   ],
   "outputs": [],
   "execution_count": 14
  },
  {
   "cell_type": "code",
   "id": "e2b02239cf789621",
   "metadata": {
    "ExecuteTime": {
     "end_time": "2024-04-06T17:38:51.253178Z",
     "start_time": "2024-04-06T17:38:51.248818Z"
    }
   },
   "source": [
    "class HikerPredictor(nn.Module):\n",
    "    def __init__(self, input_size, hidden_size, output_size):\n",
    "        super(HikerPredictor, self).__init__()\n",
    "        self.fc1 = nn.Linear(input_size, hidden_size)\n",
    "        self.relu = nn.ReLU()\n",
    "        self.fc2 = nn.Linear(hidden_size, output_size)\n",
    "\n",
    "    def forward(self, x):\n",
    "        x = self.fc1(x)\n",
    "        x = self.relu(x)\n",
    "        x = self.fc2(x)\n",
    "        return x"
   ],
   "outputs": [],
   "execution_count": 15
  },
  {
   "cell_type": "code",
   "id": "bb790d901eb714d5",
   "metadata": {
    "ExecuteTime": {
     "end_time": "2024-04-06T17:38:52.944896Z",
     "start_time": "2024-04-06T17:38:52.939663Z"
    }
   },
   "source": [
    "# Instantiate the model\n",
    "input_size = len(features)\n",
    "hidden_size = 64\n",
    "output_size = 1\n",
    "model = HikerPredictor(input_size, hidden_size, output_size)"
   ],
   "outputs": [],
   "execution_count": 16
  },
  {
   "cell_type": "code",
   "execution_count": 20,
   "id": "692e2a7521e364b1",
   "metadata": {
    "ExecuteTime": {
     "end_time": "2024-04-06T15:35:36.463421Z",
     "start_time": "2024-04-06T15:35:35.170985Z"
    }
   },
   "outputs": [],
   "source": [
    "# Define loss function and optimizer\n",
    "criterion = nn.MSELoss()\n",
    "optimizer = optim.Adam(model.parameters(), lr=0.001)"
   ]
  },
  {
   "cell_type": "code",
   "id": "f9bf943e24acdf62",
   "metadata": {
    "ExecuteTime": {
     "end_time": "2024-04-06T17:39:26.770058Z",
     "start_time": "2024-04-06T17:39:26.763254Z"
    }
   },
   "source": [
    "# Load our model\n",
    "model.load_state_dict(torch.load(f\"../models/{location}-03.pth\"))\n",
    "model.eval()"
   ],
   "outputs": [
    {
     "data": {
      "text/plain": [
       "HikerPredictor(\n",
       "  (fc1): Linear(in_features=7, out_features=64, bias=True)\n",
       "  (relu): ReLU()\n",
       "  (fc2): Linear(in_features=64, out_features=1, bias=True)\n",
       ")"
      ]
     },
     "execution_count": 17,
     "metadata": {},
     "output_type": "execute_result"
    }
   ],
   "execution_count": 17
  },
  {
   "cell_type": "code",
   "id": "c2acd5e35ab4249",
   "metadata": {
    "ExecuteTime": {
     "end_time": "2024-04-06T17:39:33.945883Z",
     "start_time": "2024-04-06T17:39:33.941615Z"
    }
   },
   "source": [
    "# Evaluate on test set\n",
    "with torch.no_grad():\n",
    "    model.eval()\n",
    "    test_predictions = model(x_test_tensor).numpy()"
   ],
   "outputs": [],
   "execution_count": 18
  },
  {
   "cell_type": "code",
   "id": "2945388848b8fc3a",
   "metadata": {
    "ExecuteTime": {
     "end_time": "2024-04-06T17:39:36.290950Z",
     "start_time": "2024-04-06T17:39:36.286045Z"
    }
   },
   "source": [
    "# Calculate test RMSE (Root Mean Squared Error)\n",
    "rmse = ((test_predictions - y_test.values) ** 2).mean() ** 0.5\n",
    "print(f\"Test RMSE: {rmse:.2f}\")"
   ],
   "outputs": [
    {
     "name": "stdout",
     "output_type": "stream",
     "text": [
      "Test RMSE: 1840.92\n"
     ]
    }
   ],
   "execution_count": 19
  },
  {
   "cell_type": "code",
   "id": "13f2d6050b46d882",
   "metadata": {
    "ExecuteTime": {
     "end_time": "2024-04-06T17:39:40.071746Z",
     "start_time": "2024-04-06T17:39:40.064986Z"
    }
   },
   "source": [
    "predictions = model(x_test_tensor)\n",
    "mse = mean_squared_error(y_test_tensor.detach().numpy(), predictions.detach().numpy())\n",
    "print(f'MSE: {mse}')"
   ],
   "outputs": [
    {
     "name": "stdout",
     "output_type": "stream",
     "text": [
      "MSE: 2795175.5\n"
     ]
    }
   ],
   "execution_count": 20
  },
  {
   "cell_type": "code",
   "id": "de2f3e9c6d783cf7",
   "metadata": {
    "ExecuteTime": {
     "end_time": "2024-04-06T17:39:52.092021Z",
     "start_time": "2024-04-06T17:39:52.083124Z"
    }
   },
   "source": [
    "# Test the model\n",
    "testing_date = \"2023-08-15\"\n",
    "testing_data = data.loc[data[\"datetime\"] == testing_date]\n",
    "\n",
    "testing_parameters = scaler.transform(testing_data[features])\n",
    "\n",
    "with torch.no_grad():\n",
    "    input_features = torch.tensor([testing_parameters], dtype=torch.float32)\n",
    "    predicted_count = model(input_features)"
   ],
   "outputs": [
    {
     "name": "stderr",
     "output_type": "stream",
     "text": [
      "C:\\Users\\filips\\AppData\\Local\\Temp\\ipykernel_9980\\5980125.py:8: UserWarning: Creating a tensor from a list of numpy.ndarrays is extremely slow. Please consider converting the list to a single numpy.ndarray with numpy.array() before converting to a tensor. (Triggered internally at ..\\torch\\csrc\\utils\\tensor_new.cpp:278.)\n",
      "  input_features = torch.tensor([testing_parameters], dtype=torch.float32)\n"
     ]
    }
   ],
   "execution_count": 21
  },
  {
   "cell_type": "code",
   "id": "6de73e71",
   "metadata": {
    "ExecuteTime": {
     "end_time": "2024-04-06T17:39:54.246603Z",
     "start_time": "2024-04-06T17:39:54.235654Z"
    }
   },
   "source": [
    "testing_data"
   ],
   "outputs": [
    {
     "data": {
      "text/plain": [
       "      count    datetime  day_of_month  day_of_week  is_national_holiday  \\\n",
       "591  2011.0  2023-08-15            15            1                 True   \n",
       "\n",
       "     is_school_holiday location  month  rain  temperature  \n",
       "591               True    vrsic      8   0.0    16.128472  "
      ],
      "text/html": [
       "<div>\n",
       "<style scoped>\n",
       "    .dataframe tbody tr th:only-of-type {\n",
       "        vertical-align: middle;\n",
       "    }\n",
       "\n",
       "    .dataframe tbody tr th {\n",
       "        vertical-align: top;\n",
       "    }\n",
       "\n",
       "    .dataframe thead th {\n",
       "        text-align: right;\n",
       "    }\n",
       "</style>\n",
       "<table border=\"1\" class=\"dataframe\">\n",
       "  <thead>\n",
       "    <tr style=\"text-align: right;\">\n",
       "      <th></th>\n",
       "      <th>count</th>\n",
       "      <th>datetime</th>\n",
       "      <th>day_of_month</th>\n",
       "      <th>day_of_week</th>\n",
       "      <th>is_national_holiday</th>\n",
       "      <th>is_school_holiday</th>\n",
       "      <th>location</th>\n",
       "      <th>month</th>\n",
       "      <th>rain</th>\n",
       "      <th>temperature</th>\n",
       "    </tr>\n",
       "  </thead>\n",
       "  <tbody>\n",
       "    <tr>\n",
       "      <th>591</th>\n",
       "      <td>2011.0</td>\n",
       "      <td>2023-08-15</td>\n",
       "      <td>15</td>\n",
       "      <td>1</td>\n",
       "      <td>True</td>\n",
       "      <td>True</td>\n",
       "      <td>vrsic</td>\n",
       "      <td>8</td>\n",
       "      <td>0.0</td>\n",
       "      <td>16.128472</td>\n",
       "    </tr>\n",
       "  </tbody>\n",
       "</table>\n",
       "</div>"
      ]
     },
     "execution_count": 22,
     "metadata": {},
     "output_type": "execute_result"
    }
   ],
   "execution_count": 22
  },
  {
   "cell_type": "code",
   "id": "9a71912aff5d5eea",
   "metadata": {
    "ExecuteTime": {
     "end_time": "2024-04-06T17:39:55.386290Z",
     "start_time": "2024-04-06T17:39:55.380796Z"
    }
   },
   "source": [
    "predicted_count"
   ],
   "outputs": [
    {
     "data": {
      "text/plain": [
       "tensor([[[632.9374]]])"
      ]
     },
     "execution_count": 23,
     "metadata": {},
     "output_type": "execute_result"
    }
   ],
   "execution_count": 23
  },
  {
   "metadata": {
    "ExecuteTime": {
     "end_time": "2024-04-06T17:41:08.675876Z",
     "start_time": "2024-04-06T17:41:07.792856Z"
    }
   },
   "cell_type": "code",
   "source": [
    "# Generate for each date\n",
    "predictions = []\n",
    "\n",
    "for _, neki in data.iterrows():\n",
    "    neki2 = data.loc[data[\"datetime\"] == neki[\"datetime\"]]\n",
    "    parameters = scaler.transform(neki2[features])\n",
    "    with torch.no_grad():\n",
    "        input_features = torch.tensor([parameters], dtype=torch.float32)\n",
    "        predicted_count = model(input_features)\n",
    "        predictions.append(f\"{neki['datetime']},{float(predicted_count)}\\n\")\n",
    "\n",
    "print(predictions)\n",
    "\n",
    "with open(f\"../predictions/{location}2.csv\", \"w\") as file:\n",
    "    file.writelines(predictions)"
   ],
   "id": "3a7470b8",
   "outputs": [
    {
     "name": "stdout",
     "output_type": "stream",
     "text": [
      "['2022-07-15,2249.64697265625\\n', '2022-07-16,1041.20166015625\\n', '2022-07-17,2039.493408203125\\n', '2022-07-18,1950.912353515625\\n', '2022-07-19,2265.013671875\\n', '2022-07-20,2682.65869140625\\n', '2022-07-21,3032.37841796875\\n', '2022-07-22,2970.36083984375\\n', '2022-07-23,2806.1748046875\\n', '2022-07-24,1669.33740234375\\n', '2022-07-25,2876.40478515625\\n', '2022-07-26,1679.24951171875\\n', '2022-07-27,1628.97802734375\\n', '2022-07-28,2180.77587890625\\n', '2022-07-29,1493.9130859375\\n', '2022-07-30,905.8256225585938\\n', '2022-07-31,1701.61376953125\\n', '2022-08-01,4157.869140625\\n', '2022-08-02,4514.9541015625\\n', '2022-08-03,3797.578369140625\\n', '2022-08-04,3857.47265625\\n', '2022-08-05,3320.0625\\n', '2022-08-06,2566.75244140625\\n', '2022-08-07,1630.7159423828125\\n', '2022-08-08,3640.0966796875\\n', '2022-08-09,3167.36767578125\\n', '2022-08-10,2745.537353515625\\n', '2022-08-11,2632.911376953125\\n', '2022-08-12,2164.286865234375\\n', '2022-08-13,2196.2841796875\\n', '2022-08-14,2478.393310546875\\n', '2022-08-15,1825.179931640625\\n', '2022-08-16,2656.507568359375\\n', '2022-08-17,2843.128173828125\\n', '2022-08-18,3245.19873046875\\n', '2022-08-19,3455.883056640625\\n', '2022-08-20,1187.154296875\\n', '2022-08-21,1992.51025390625\\n', '2022-08-22,1472.804931640625\\n', '2022-08-23,1368.50146484375\\n', '2022-08-24,2020.644287109375\\n', '2022-08-25,2169.35009765625\\n', '2022-08-26,2529.52880859375\\n', '2022-08-27,1882.14794921875\\n', '2022-08-28,1373.16455078125\\n', '2022-08-29,2027.31787109375\\n', '2022-08-30,2267.947265625\\n', '2022-08-31,3082.54345703125\\n', '2022-09-01,1096.2413330078125\\n', '2022-09-02,746.6382446289062\\n', '2022-09-03,2089.48046875\\n', '2022-09-04,2839.09912109375\\n', '2022-09-05,55.675987243652344\\n', '2022-09-06,625.3888549804688\\n', '2022-09-07,856.7531127929688\\n', '2022-09-08,106.23116302490234\\n', '2022-09-09,296.0007629394531\\n', '2022-09-10,1792.2835693359375\\n', '2022-09-11,1857.8304443359375\\n', '2022-09-12,477.9626159667969\\n', '2022-09-13,467.6977233886719\\n', '2022-09-14,-1417.1490478515625\\n', '2022-09-15,153.37692260742188\\n', '2022-09-16,-582.1726684570312\\n', '2022-09-17,107.22310638427734\\n', '2022-09-18,1125.7823486328125\\n', '2022-09-19,271.7443542480469\\n', '2022-09-20,790.7096557617188\\n', '2022-09-21,1087.12548828125\\n', '2022-09-22,330.8403015136719\\n', '2022-09-23,489.0478210449219\\n', '2022-09-24,261.9328308105469\\n', '2022-09-25,240.63864135742188\\n', '2022-09-26,241.02584838867188\\n', '2022-09-27,-42.515663146972656\\n', '2022-09-28,764.0599975585938\\n', '2022-09-29,-615.3108520507812\\n', '2022-09-30,290.9198913574219\\n', '2022-10-01,1711.60205078125\\n', '2022-10-02,1071.729248046875\\n', '2022-10-03,-102.36905670166016\\n', '2022-10-04,209.98739624023438\\n', '2022-10-05,382.3049621582031\\n', '2022-10-06,706.67724609375\\n', '2022-10-07,904.4542846679688\\n', '2022-10-08,1627.445068359375\\n', '2022-10-09,1225.963134765625\\n', '2022-10-10,22.983238220214844\\n', '2022-10-11,668.3656616210938\\n', '2022-10-12,450.3768005371094\\n', '2022-10-13,62.469566345214844\\n', '2022-10-14,-164.12075805664062\\n', '2022-10-15,449.8905944824219\\n', '2022-10-16,1367.89013671875\\n', '2022-10-17,366.9936218261719\\n', '2022-10-18,546.4581909179688\\n', '2022-10-19,765.8002319335938\\n', '2022-10-20,373.1515808105469\\n', '2022-10-21,130.26168823242188\\n', '2022-10-22,-437.1177062988281\\n', '2022-10-23,1006.7470092773438\\n', '2022-10-24,-1344.143310546875\\n', '2022-10-25,-613.1277465820312\\n', '2022-10-26,919.9638061523438\\n', '2022-10-27,1324.46240234375\\n', '2022-10-28,1511.2216796875\\n', '2022-10-29,2206.24169921875\\n', '2022-10-30,3385.88623046875\\n', '2022-10-31,3986.67822265625\\n', '2022-11-01,1871.526123046875\\n', '2022-11-02,1730.32177734375\\n', '2022-11-03,764.1264038085938\\n', '2022-11-04,1582.95458984375\\n', '2022-11-05,-113.25760650634766\\n', '2022-11-06,79.98067474365234\\n', '2022-11-07,73.73726654052734\\n', '2022-11-08,-240.50735473632812\\n', '2022-11-09,-212.33743286132812\\n', '2022-11-10,-397.9360656738281\\n', '2022-11-11,-1044.459716796875\\n', '2022-11-12,453.2255554199219\\n', '2022-11-13,216.83956909179688\\n', '2022-11-14,-687.0005493164062\\n', '2022-11-15,-178.47708129882812\\n', '2022-11-16,435.3551940917969\\n', '2022-11-17,-438.1870422363281\\n', '2022-11-18,-734.3838500976562\\n', '2022-11-19,-279.5058898925781\\n', '2022-11-20,485.7392272949219\\n', '2022-11-21,468.0492858886719\\n', '2022-11-22,-564.8501586914062\\n', '2023-06-22,683.6657104492188\\n', '2023-06-23,466.5136413574219\\n', '2023-06-24,962.1276245117188\\n', '2023-06-25,-788.4448852539062\\n', '2023-06-26,1973.86474609375\\n', '2023-06-27,2879.587158203125\\n', '2023-06-28,680.7255249023438\\n', '2023-06-29,1567.72607421875\\n', '2023-06-30,1658.94970703125\\n', '2023-07-01,2748.342529296875\\n', '2023-07-02,2560.72216796875\\n', '2023-07-03,4496.39599609375\\n', '2023-07-04,2750.6142578125\\n', '2023-07-05,2611.12060546875\\n', '2023-07-06,3101.0546875\\n', '2023-07-07,2732.86865234375\\n', '2023-07-08,3280.3974609375\\n', '2023-07-09,3116.55224609375\\n', '2023-07-10,3047.749755859375\\n', '2023-07-11,2666.9267578125\\n', '2023-07-12,4969.90966796875\\n', '2023-07-13,733.3558959960938\\n', '2023-07-14,2124.224609375\\n', '2023-07-15,2201.95361328125\\n', '2023-07-16,2169.17041015625\\n', '2023-07-17,2782.96875\\n', '2023-07-18,1786.1717529296875\\n', '2023-07-19,3516.030517578125\\n', '2023-07-20,1560.4111328125\\n', '2023-07-21,2386.310546875\\n', '2023-07-22,733.0946655273438\\n', '2023-07-23,1743.998046875\\n', '2023-07-24,3532.697509765625\\n', '2023-07-25,3607.12109375\\n', '2023-07-26,267.5834655761719\\n', '2023-07-27,870.6117553710938\\n', '2023-07-28,1263.8525390625\\n', '2023-07-29,1375.47265625\\n', '2023-07-30,1964.47705078125\\n', '2023-07-31,2252.3251953125\\n', '2023-08-01,4710.8671875\\n', '2023-08-02,3813.59912109375\\n', '2023-08-03,2458.30908203125\\n', '2023-08-04,1781.91650390625\\n', '2023-08-05,1055.3720703125\\n', '2023-08-06,1047.515380859375\\n', '2023-08-07,2873.094482421875\\n', '2023-08-08,2511.90478515625\\n', '2023-08-09,2419.7431640625\\n', '2023-08-10,2428.81103515625\\n', '2023-08-11,2696.29296875\\n', '2023-08-12,2902.116943359375\\n', '2023-08-13,3289.60888671875\\n', '2023-08-14,763.8192749023438\\n', '2023-08-15,632.9374389648438\\n', '2023-08-16,2662.17578125\\n', '2023-08-17,2607.588623046875\\n', '2023-08-18,2011.653076171875\\n', '2023-08-19,2962.37548828125\\n', '2023-08-20,3047.03369140625\\n', '2023-08-21,3175.544677734375\\n', '2023-08-22,4390.18701171875\\n', '2023-08-23,3776.4140625\\n', '2023-08-24,4248.31396484375\\n', '2023-08-25,4157.0166015625\\n', '2023-08-26,4154.75439453125\\n', '2023-08-27,2964.88720703125\\n', '2023-08-28,3583.64111328125\\n', '2023-08-29,1328.10009765625\\n', '2023-08-30,-824.6030883789062\\n', '2023-08-31,1133.08984375\\n', '2023-09-01,1321.2886962890625\\n', '2023-09-02,2354.78759765625\\n', '2023-09-03,2958.3779296875\\n', '2023-09-04,25.988182067871094\\n', '2023-09-05,313.7940368652344\\n', '2023-09-06,890.990234375\\n', '2023-09-07,809.42724609375\\n', '2023-09-08,727.5990600585938\\n', '2023-09-09,1358.6563720703125\\n', '2023-09-10,2134.27099609375\\n', '2023-09-11,539.3566284179688\\n', '2023-09-12,460.6148376464844\\n', '2023-09-13,361.2660827636719\\n', '2023-09-14,403.7355651855469\\n', '2023-09-15,407.6525573730469\\n', '2023-09-16,1108.524658203125\\n', '2023-09-17,2059.393310546875\\n', '2023-09-18,-1054.1512451171875\\n', '2023-09-19,-557.7251586914062\\n', '2023-09-20,657.6897583007812\\n', '2023-09-21,555.4840698242188\\n', '2023-09-22,-365.9433898925781\\n', '2023-09-23,1247.04541015625\\n', '2023-09-24,417.6703796386719\\n', '2023-09-25,767.6137084960938\\n', '2023-09-26,1007.1596069335938\\n', '2023-09-27,1222.785888671875\\n', '2023-09-28,361.0336608886719\\n', '2023-09-29,253.05172729492188\\n', '2023-09-30,1605.8916015625\\n', '2023-10-01,2841.31640625\\n', '2023-10-02,1007.2427368164062\\n', '2023-10-03,715.5775756835938\\n', '2023-10-04,328.3689880371094\\n', '2023-10-05,641.8540649414062\\n', '2023-10-06,729.0451049804688\\n', '2023-10-07,1157.774658203125\\n', '2023-10-08,1963.0498046875\\n', '2023-10-09,472.3495788574219\\n', '2023-10-10,52.640830993652344\\n', '2023-10-11,85.82784271240234\\n', '2023-10-12,233.86666870117188\\n', '2023-10-13,666.7581176757812\\n', '2023-10-14,888.5006713867188\\n', '2023-10-15,-886.8958129882812\\n', '2023-10-16,-210.53030395507812\\n', '2023-10-17,-95.13871002197266\\n', '2023-10-18,269.9548034667969\\n', '2023-10-19,-1112.97607421875\\n', '2023-10-20,2357.27587890625\\n', '2023-10-21,1050.46484375\\n', '2023-10-22,425.4623718261719\\n', '2023-10-23,372.5024108886719\\n', '2023-10-24,879.0297241210938\\n', '2023-10-25,-797.7743530273438\\n', '2023-10-26,516.0038452148438\\n', '2023-10-27,-446.4863586425781\\n', '2023-10-28,129.04830932617188\\n', '2023-10-29,959.1039428710938\\n', '2023-10-30,3642.978271484375\\n', '2023-10-31,-2774.119140625\\n', '2023-11-01,941.9303588867188\\n', '2023-11-02,3171.02001953125\\n', '2023-11-03,1074.010009765625\\n', '2023-11-04,-259.8762512207031\\n', '2023-11-05,529.4384155273438\\n', '2023-11-06,167.00216674804688\\n', '2023-11-07,233.25314331054688\\n', '2023-11-08,-64.37259674072266\\n', '2023-11-09,105.47457122802734\\n', '2023-11-10,491.6318054199219\\n', '2023-11-11,134.19918823242188\\n', '2023-11-12,577.3373413085938\\n', '2023-11-13,-433.9785461425781\\n', '2023-11-14,-22.159950256347656\\n', '2023-11-15,-143.79788208007812\\n', '2023-11-16,-414.9883117675781\\n', '2023-11-17,-703.3159790039062\\n', '2023-11-18,-188.89456176757812\\n', '2023-11-19,915.8502807617188\\n', '2023-11-20,-271.2309875488281\\n', '2023-11-21,-125.82816314697266\\n', '2023-11-22,667.7445678710938\\n', '2023-11-23,257.6488952636719\\n', '2023-11-24,313.9057312011719\\n', '2023-11-25,-68.79349517822266\\n', '2023-11-26,359.8759460449219\\n', '2023-11-27,-212.57962036132812\\n', '2023-11-28,212.74801635742188\\n', '2023-11-29,743.3012084960938\\n', '2023-11-30,-216.01467895507812\\n', '2023-12-01,2042.85693359375\\n', '2023-12-02,-82.50565338134766\\n', '2023-12-03,263.5546569824219\\n', '2023-12-04,578.6527709960938\\n', '2023-12-05,-265.0234680175781\\n', '2023-12-06,-82.65189361572266\\n', '2023-12-07,-133.36038208007812\\n', '2023-12-08,-571.7461547851562\\n', '2023-12-09,341.3935241699219\\n', '2023-12-10,-13.716835021972656\\n', '2023-12-11,450.1923522949219\\n', '2023-12-12,197.68502807617188\\n', '2023-12-13,-315.2671203613281\\n', '2023-12-14,172.71237182617188\\n', '2023-12-15,326.1518249511719\\n', '2023-12-16,61.084922790527344\\n', '2023-12-17,744.6386108398438\\n', '2023-12-18,730.8080444335938\\n', '2023-12-19,121.27828216552734\\n', '2023-12-20,-399.2236633300781\\n', '2023-12-21,356.6469421386719\\n', '2023-12-22,-162.33206176757812\\n', '2023-12-23,1104.76806640625\\n', '2023-12-24,948.9384155273438\\n', '2023-12-25,1232.195556640625\\n', '2023-12-26,1195.6090087890625\\n', '2023-12-27,-164.94387817382812\\n', '2023-12-28,-100.16898345947266\\n', '2023-12-29,128.59078979492188\\n', '2023-12-30,634.9633178710938\\n', '2023-12-31,-245.71243286132812\\n', '2024-01-01,-868.1826782226562\\n', '2024-01-02,6475.23095703125\\n', '2024-01-03,2946.8076171875\\n', '2024-01-04,3999.18798828125\\n', '2024-01-05,4426.41748046875\\n', '2024-01-06,3304.620361328125\\n', '2024-01-07,4752.03271484375\\n', '2024-01-08,2037.20361328125\\n', '2024-01-09,2455.46630859375\\n', '2024-01-10,3103.726318359375\\n', '2024-01-11,3982.724609375\\n', '2024-01-12,4064.828857421875\\n', '2024-01-13,4365.45458984375\\n', '2024-01-14,4635.78662109375\\n', '2024-01-15,2228.701416015625\\n', '2024-01-16,2783.93994140625\\n', '2024-01-17,3041.3857421875\\n', '2024-01-18,1299.8468017578125\\n', '2024-01-19,2517.0068359375\\n', '2024-01-20,3482.439697265625\\n', '2024-01-21,3370.15283203125\\n', '2024-01-22,3787.03857421875\\n', '2024-01-23,4262.82177734375\\n', '2024-01-24,3555.5458984375\\n', '2024-01-25,2695.6357421875\\n', '2024-01-26,1343.351806640625\\n', '2024-01-27,1072.7880859375\\n', '2024-01-28,737.5175170898438\\n', '2024-01-29,4573.76611328125\\n', '2024-01-30,4366.28564453125\\n', '2024-01-31,3787.516357421875\\n', '2024-02-01,3021.934814453125\\n', '2024-02-02,4001.82666015625\\n', '2024-02-03,3369.6162109375\\n', '2024-02-04,3554.4833984375\\n', '2024-02-05,564.3060913085938\\n', '2024-02-06,2019.843017578125\\n', '2024-02-07,2930.01220703125\\n', '2024-02-08,5075.10791015625\\n', '2024-02-09,2582.83935546875\\n', '2024-02-10,2617.52001953125\\n', '2024-02-11,2991.944091796875\\n', '2024-02-12,1431.9061279296875\\n', '2024-02-13,2185.825927734375\\n', '2024-02-14,2491.5322265625\\n', '2024-02-15,2041.76318359375\\n', '2024-02-16,1952.8372802734375\\n', '2024-02-17,1072.703369140625\\n', '2024-02-18,1531.1453857421875\\n', '2024-02-19,697.3380737304688\\n', '2024-02-20,238.35678100585938\\n', '2024-02-21,152.71920776367188\\n', '2024-02-22,-148.82742309570312\\n', '2024-02-23,3790.369384765625\\n', '2024-02-24,1381.1822509765625\\n', '2024-02-25,1094.73779296875\\n', '2024-02-26,3838.169677734375\\n', '2024-02-27,4022.226318359375\\n', '2024-02-28,3158.7763671875\\n', '2024-02-29,2147.07275390625\\n', '2024-03-01,2877.15380859375\\n', '2024-03-02,3353.636474609375\\n', '2024-03-03,3385.735107421875\\n', '2024-03-04,605.4732055664062\\n', '2024-03-05,680.4458618164062\\n', '2024-03-06,1706.7506103515625\\n', '2024-03-07,2399.35693359375\\n', '2024-03-08,2305.5595703125\\n', '2024-03-09,2718.83447265625\\n', '2024-03-10,2809.32666015625\\n', '2024-03-11,700.4790649414062\\n', '2024-03-12,1381.682373046875\\n', '2024-03-13,1804.2620849609375\\n', '2024-03-14,2037.327392578125\\n', '2024-03-15,1828.006591796875\\n', '2024-03-16,1349.775146484375\\n', '2024-03-17,1074.8948974609375\\n', '2024-03-18,1730.2447509765625\\n', '2024-03-19,2532.43017578125\\n', '2024-03-20,2191.5146484375\\n', '2024-03-21,1309.790283203125\\n', '2024-03-22,681.6511840820312\\n', '2024-03-23,477.6476745605469\\n', '2024-03-24,1266.233154296875\\n', '2024-03-25,2925.373046875\\n', '2024-03-26,3666.46923828125\\n', '2024-03-27,2907.49755859375\\n', '2024-03-28,2111.779052734375\\n', '2024-03-29,1144.412353515625\\n', '2024-03-30,1675.35595703125\\n']\n"
     ]
    }
   ],
   "execution_count": 25
  },
  {
   "cell_type": "code",
   "execution_count": null,
   "id": "501ccb5420d356ae",
   "metadata": {},
   "outputs": [],
   "source": []
  }
 ],
 "metadata": {
  "kernelspec": {
   "display_name": "Python 3",
   "language": "python",
   "name": "python3"
  },
  "language_info": {
   "codemirror_mode": {
    "name": "ipython",
    "version": 3
   },
   "file_extension": ".py",
   "mimetype": "text/x-python",
   "name": "python",
   "nbconvert_exporter": "python",
   "pygments_lexer": "ipython3",
   "version": "3.11.5"
  }
 },
 "nbformat": 4,
 "nbformat_minor": 5
}
