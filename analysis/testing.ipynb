{
 "cells": [
  {
   "cell_type": "code",
   "id": "initial_id",
   "metadata": {
    "collapsed": true,
    "ExecuteTime": {
     "end_time": "2024-04-06T20:19:39.554155Z",
     "start_time": "2024-04-06T20:19:39.549444Z"
    }
   },
   "source": [
    "import torch\n",
    "import torch.nn as nn\n",
    "import torch.optim as optim\n",
    "import pandas as pd\n",
    "from joblib import load\n",
    "import holidays\n",
    "from datetime import datetime"
   ],
   "outputs": [],
   "execution_count": 42
  },
  {
   "metadata": {},
   "cell_type": "markdown",
   "source": "### Location Config",
   "id": "c53f5f623bf3b9ae"
  },
  {
   "cell_type": "code",
   "id": "53d380482146a295",
   "metadata": {
    "ExecuteTime": {
     "end_time": "2024-04-06T20:16:28.843132Z",
     "start_time": "2024-04-06T20:16:28.839116Z"
    }
   },
   "source": [
    "location = \"lovrenska-jezera\"\n",
    "revision = 2"
   ],
   "outputs": [],
   "execution_count": 27
  },
  {
   "metadata": {},
   "cell_type": "markdown",
   "source": "### Data Preprocessing",
   "id": "253d607ee710c0e9"
  },
  {
   "metadata": {
    "ExecuteTime": {
     "end_time": "2024-04-06T20:16:30.785611Z",
     "start_time": "2024-04-06T20:16:30.780485Z"
    }
   },
   "cell_type": "code",
   "source": [
    "features = [\"temperature\", \"rain\", \"month\", \"day_of_month\", \"day_of_week\", \"is_national_holiday\", \"is_school_holiday\"]\n",
    "target = \"count\""
   ],
   "id": "7cd80b797237b7fa",
   "outputs": [],
   "execution_count": 28
  },
  {
   "cell_type": "code",
   "id": "c193ef868d704e8b",
   "metadata": {
    "ExecuteTime": {
     "end_time": "2024-04-06T20:16:32.293799Z",
     "start_time": "2024-04-06T20:16:32.269206Z"
    }
   },
   "source": [
    "hikers_data = pd.read_csv(f\"../data/hikers/test/{location}.csv\")\n",
    "weather_data = pd.read_csv(f\"../data/weather/aggregated/{location}.csv\")"
   ],
   "outputs": [],
   "execution_count": 29
  },
  {
   "cell_type": "code",
   "id": "2c01a36ed6b2f159",
   "metadata": {
    "ExecuteTime": {
     "end_time": "2024-04-06T20:16:39.081516Z",
     "start_time": "2024-04-06T20:16:39.075323Z"
    }
   },
   "source": [
    "# List of national holidays\n",
    "national_holidays = holidays.SI()"
   ],
   "outputs": [],
   "execution_count": 30
  },
  {
   "cell_type": "code",
   "id": "1f836ac2d5500087",
   "metadata": {
    "ExecuteTime": {
     "end_time": "2024-04-06T20:16:39.676203Z",
     "start_time": "2024-04-06T20:16:39.668053Z"
    }
   },
   "source": [
    "# List of school holidays and code to check if a date is holiday\n",
    "\n",
    "school_holidays = [[\"2021-12-25\", \"2022-01-02\"], [\"2022-02-21\", \"2022-02-25\"], [\"2022-02-28\", \"2022-03-04\"], [\"2022-04-27\", \"2022-05-02\"], [\"2022-06-25\", \"2022-08-31\"], [\"2022-10-31\", \"2022-11-04\"], [\"2022-12-26\", \"2023-01-02\"], [\"2023-01-30\", \"2023-02-01\"], [\"2023-02-06\", \"2023-02-10\"], [\"2023-04-27\", \"2023-05-02\"], [\"2023-06-26\", \"2023-08-31\"],[\"2023-10-30\", \"2023-11-3\"], [\"2023-12-25\", \"2024-01-02\"], [\"2024-02-19\", \"2024-02-23\"], [\"2024-02-26\", \"2023-03-01\"], [\"2024-4-27\", \"2023-05-02\"], [\"2024-06-26\", \"2024-08-31\"]]\n",
    "school_holidays = [[datetime.strptime(start, \"%Y-%m-%d\"), datetime.strptime(end, \"%Y-%m-%d\")] for start, end in school_holidays]\n",
    "\n",
    "def is_school_holiday(date):\n",
    "    for start, end in school_holidays:\n",
    "        if start <= date <= end:\n",
    "            return True\n",
    "    return False"
   ],
   "outputs": [],
   "execution_count": 31
  },
  {
   "cell_type": "code",
   "id": "c42f916f91cf1230",
   "metadata": {
    "ExecuteTime": {
     "end_time": "2024-04-06T20:16:51.561914Z",
     "start_time": "2024-04-06T20:16:49.223277Z"
    }
   },
   "source": [
    "# Calculate our features and prepare data\n",
    "\n",
    "def prepare_data(row):\n",
    "    dt = datetime.fromisoformat(row[\"datetime\"])\n",
    "    row[\"month\"] = dt.month\n",
    "    row[\"day_of_month\"] = dt.day\n",
    "    row[\"day_of_week\"] = dt.weekday()\n",
    "    row[\"is_national_holiday\"] = dt in national_holidays or dt.weekday() >= 5\n",
    "    row[\"is_school_holiday\"] = is_school_holiday(dt)\n",
    "\n",
    "    if not (counts := hikers_data.loc[hikers_data[\"datum\"] == row[\"datetime\"]]).empty:\n",
    "        row[\"count\"] = counts[\"vhodi\"].values[0] + counts[\"izhodi\"].values[0]\n",
    "\n",
    "    return row\n",
    "\n",
    "data = weather_data.apply(prepare_data, axis=1).dropna()"
   ],
   "outputs": [],
   "execution_count": 33
  },
  {
   "metadata": {
    "ExecuteTime": {
     "end_time": "2024-04-06T20:16:53.395968Z",
     "start_time": "2024-04-06T20:16:53.379500Z"
    }
   },
   "cell_type": "code",
   "source": [
    "# Data before filtering\n",
    "data"
   ],
   "id": "c0ee3c6308ab738f",
   "outputs": [
    {
     "data": {
      "text/plain": [
       "     count    datetime  day_of_month  day_of_week  is_national_holiday  \\\n",
       "177  318.0  2022-06-27            27            0                False   \n",
       "178   66.0  2022-06-28            28            1                False   \n",
       "179  214.0  2022-06-29            29            2                False   \n",
       "180  288.0  2022-06-30            30            3                False   \n",
       "181  379.0  2022-07-01             1            4                False   \n",
       "..     ...         ...           ...          ...                  ...   \n",
       "815    9.0  2024-03-26            26            1                False   \n",
       "816   43.0  2024-03-27            27            2                False   \n",
       "817  864.0  2024-03-28            28            3                False   \n",
       "818  965.0  2024-03-29            29            4                False   \n",
       "819   30.0  2024-03-30            30            5                 True   \n",
       "\n",
       "     is_school_holiday          location  month  rain  temperature  \n",
       "177               True  lovrenska-jezera      6   0.0    19.469444  \n",
       "178               True  lovrenska-jezera      6   0.0    17.882639  \n",
       "179               True  lovrenska-jezera      6   0.6    18.314583  \n",
       "180               True  lovrenska-jezera      6   0.0    17.002778  \n",
       "181               True  lovrenska-jezera      7   0.0    18.290278  \n",
       "..                 ...               ...    ...   ...          ...  \n",
       "815              False  lovrenska-jezera      3   0.0     1.080556  \n",
       "816              False  lovrenska-jezera      3  11.7     3.449306  \n",
       "817              False  lovrenska-jezera      3  15.9     0.959722  \n",
       "818              False  lovrenska-jezera      3   0.1     4.364583  \n",
       "819              False  lovrenska-jezera      3   0.0     7.413194  \n",
       "\n",
       "[640 rows x 10 columns]"
      ],
      "text/html": [
       "<div>\n",
       "<style scoped>\n",
       "    .dataframe tbody tr th:only-of-type {\n",
       "        vertical-align: middle;\n",
       "    }\n",
       "\n",
       "    .dataframe tbody tr th {\n",
       "        vertical-align: top;\n",
       "    }\n",
       "\n",
       "    .dataframe thead th {\n",
       "        text-align: right;\n",
       "    }\n",
       "</style>\n",
       "<table border=\"1\" class=\"dataframe\">\n",
       "  <thead>\n",
       "    <tr style=\"text-align: right;\">\n",
       "      <th></th>\n",
       "      <th>count</th>\n",
       "      <th>datetime</th>\n",
       "      <th>day_of_month</th>\n",
       "      <th>day_of_week</th>\n",
       "      <th>is_national_holiday</th>\n",
       "      <th>is_school_holiday</th>\n",
       "      <th>location</th>\n",
       "      <th>month</th>\n",
       "      <th>rain</th>\n",
       "      <th>temperature</th>\n",
       "    </tr>\n",
       "  </thead>\n",
       "  <tbody>\n",
       "    <tr>\n",
       "      <th>177</th>\n",
       "      <td>318.0</td>\n",
       "      <td>2022-06-27</td>\n",
       "      <td>27</td>\n",
       "      <td>0</td>\n",
       "      <td>False</td>\n",
       "      <td>True</td>\n",
       "      <td>lovrenska-jezera</td>\n",
       "      <td>6</td>\n",
       "      <td>0.0</td>\n",
       "      <td>19.469444</td>\n",
       "    </tr>\n",
       "    <tr>\n",
       "      <th>178</th>\n",
       "      <td>66.0</td>\n",
       "      <td>2022-06-28</td>\n",
       "      <td>28</td>\n",
       "      <td>1</td>\n",
       "      <td>False</td>\n",
       "      <td>True</td>\n",
       "      <td>lovrenska-jezera</td>\n",
       "      <td>6</td>\n",
       "      <td>0.0</td>\n",
       "      <td>17.882639</td>\n",
       "    </tr>\n",
       "    <tr>\n",
       "      <th>179</th>\n",
       "      <td>214.0</td>\n",
       "      <td>2022-06-29</td>\n",
       "      <td>29</td>\n",
       "      <td>2</td>\n",
       "      <td>False</td>\n",
       "      <td>True</td>\n",
       "      <td>lovrenska-jezera</td>\n",
       "      <td>6</td>\n",
       "      <td>0.6</td>\n",
       "      <td>18.314583</td>\n",
       "    </tr>\n",
       "    <tr>\n",
       "      <th>180</th>\n",
       "      <td>288.0</td>\n",
       "      <td>2022-06-30</td>\n",
       "      <td>30</td>\n",
       "      <td>3</td>\n",
       "      <td>False</td>\n",
       "      <td>True</td>\n",
       "      <td>lovrenska-jezera</td>\n",
       "      <td>6</td>\n",
       "      <td>0.0</td>\n",
       "      <td>17.002778</td>\n",
       "    </tr>\n",
       "    <tr>\n",
       "      <th>181</th>\n",
       "      <td>379.0</td>\n",
       "      <td>2022-07-01</td>\n",
       "      <td>1</td>\n",
       "      <td>4</td>\n",
       "      <td>False</td>\n",
       "      <td>True</td>\n",
       "      <td>lovrenska-jezera</td>\n",
       "      <td>7</td>\n",
       "      <td>0.0</td>\n",
       "      <td>18.290278</td>\n",
       "    </tr>\n",
       "    <tr>\n",
       "      <th>...</th>\n",
       "      <td>...</td>\n",
       "      <td>...</td>\n",
       "      <td>...</td>\n",
       "      <td>...</td>\n",
       "      <td>...</td>\n",
       "      <td>...</td>\n",
       "      <td>...</td>\n",
       "      <td>...</td>\n",
       "      <td>...</td>\n",
       "      <td>...</td>\n",
       "    </tr>\n",
       "    <tr>\n",
       "      <th>815</th>\n",
       "      <td>9.0</td>\n",
       "      <td>2024-03-26</td>\n",
       "      <td>26</td>\n",
       "      <td>1</td>\n",
       "      <td>False</td>\n",
       "      <td>False</td>\n",
       "      <td>lovrenska-jezera</td>\n",
       "      <td>3</td>\n",
       "      <td>0.0</td>\n",
       "      <td>1.080556</td>\n",
       "    </tr>\n",
       "    <tr>\n",
       "      <th>816</th>\n",
       "      <td>43.0</td>\n",
       "      <td>2024-03-27</td>\n",
       "      <td>27</td>\n",
       "      <td>2</td>\n",
       "      <td>False</td>\n",
       "      <td>False</td>\n",
       "      <td>lovrenska-jezera</td>\n",
       "      <td>3</td>\n",
       "      <td>11.7</td>\n",
       "      <td>3.449306</td>\n",
       "    </tr>\n",
       "    <tr>\n",
       "      <th>817</th>\n",
       "      <td>864.0</td>\n",
       "      <td>2024-03-28</td>\n",
       "      <td>28</td>\n",
       "      <td>3</td>\n",
       "      <td>False</td>\n",
       "      <td>False</td>\n",
       "      <td>lovrenska-jezera</td>\n",
       "      <td>3</td>\n",
       "      <td>15.9</td>\n",
       "      <td>0.959722</td>\n",
       "    </tr>\n",
       "    <tr>\n",
       "      <th>818</th>\n",
       "      <td>965.0</td>\n",
       "      <td>2024-03-29</td>\n",
       "      <td>29</td>\n",
       "      <td>4</td>\n",
       "      <td>False</td>\n",
       "      <td>False</td>\n",
       "      <td>lovrenska-jezera</td>\n",
       "      <td>3</td>\n",
       "      <td>0.1</td>\n",
       "      <td>4.364583</td>\n",
       "    </tr>\n",
       "    <tr>\n",
       "      <th>819</th>\n",
       "      <td>30.0</td>\n",
       "      <td>2024-03-30</td>\n",
       "      <td>30</td>\n",
       "      <td>5</td>\n",
       "      <td>True</td>\n",
       "      <td>False</td>\n",
       "      <td>lovrenska-jezera</td>\n",
       "      <td>3</td>\n",
       "      <td>0.0</td>\n",
       "      <td>7.413194</td>\n",
       "    </tr>\n",
       "  </tbody>\n",
       "</table>\n",
       "<p>640 rows × 10 columns</p>\n",
       "</div>"
      ]
     },
     "execution_count": 34,
     "metadata": {},
     "output_type": "execute_result"
    }
   ],
   "execution_count": 34
  },
  {
   "cell_type": "code",
   "id": "13879605230ba04",
   "metadata": {
    "ExecuteTime": {
     "end_time": "2024-04-06T20:17:06.839188Z",
     "start_time": "2024-04-06T20:17:06.831751Z"
    }
   },
   "source": [
    "# Prepare x and y data\n",
    "x_data = data[features]\n",
    "y_data = data[target]"
   ],
   "outputs": [],
   "execution_count": 35
  },
  {
   "cell_type": "code",
   "id": "d6183f5baf3841b6",
   "metadata": {
    "ExecuteTime": {
     "end_time": "2024-04-06T20:17:08.360765Z",
     "start_time": "2024-04-06T20:17:08.348893Z"
    }
   },
   "source": [
    "x_data"
   ],
   "outputs": [
    {
     "data": {
      "text/plain": [
       "     temperature  rain  month  day_of_month  day_of_week  is_national_holiday  \\\n",
       "177    19.469444   0.0      6            27            0                False   \n",
       "178    17.882639   0.0      6            28            1                False   \n",
       "179    18.314583   0.6      6            29            2                False   \n",
       "180    17.002778   0.0      6            30            3                False   \n",
       "181    18.290278   0.0      7             1            4                False   \n",
       "..           ...   ...    ...           ...          ...                  ...   \n",
       "815     1.080556   0.0      3            26            1                False   \n",
       "816     3.449306  11.7      3            27            2                False   \n",
       "817     0.959722  15.9      3            28            3                False   \n",
       "818     4.364583   0.1      3            29            4                False   \n",
       "819     7.413194   0.0      3            30            5                 True   \n",
       "\n",
       "     is_school_holiday  \n",
       "177               True  \n",
       "178               True  \n",
       "179               True  \n",
       "180               True  \n",
       "181               True  \n",
       "..                 ...  \n",
       "815              False  \n",
       "816              False  \n",
       "817              False  \n",
       "818              False  \n",
       "819              False  \n",
       "\n",
       "[640 rows x 7 columns]"
      ],
      "text/html": [
       "<div>\n",
       "<style scoped>\n",
       "    .dataframe tbody tr th:only-of-type {\n",
       "        vertical-align: middle;\n",
       "    }\n",
       "\n",
       "    .dataframe tbody tr th {\n",
       "        vertical-align: top;\n",
       "    }\n",
       "\n",
       "    .dataframe thead th {\n",
       "        text-align: right;\n",
       "    }\n",
       "</style>\n",
       "<table border=\"1\" class=\"dataframe\">\n",
       "  <thead>\n",
       "    <tr style=\"text-align: right;\">\n",
       "      <th></th>\n",
       "      <th>temperature</th>\n",
       "      <th>rain</th>\n",
       "      <th>month</th>\n",
       "      <th>day_of_month</th>\n",
       "      <th>day_of_week</th>\n",
       "      <th>is_national_holiday</th>\n",
       "      <th>is_school_holiday</th>\n",
       "    </tr>\n",
       "  </thead>\n",
       "  <tbody>\n",
       "    <tr>\n",
       "      <th>177</th>\n",
       "      <td>19.469444</td>\n",
       "      <td>0.0</td>\n",
       "      <td>6</td>\n",
       "      <td>27</td>\n",
       "      <td>0</td>\n",
       "      <td>False</td>\n",
       "      <td>True</td>\n",
       "    </tr>\n",
       "    <tr>\n",
       "      <th>178</th>\n",
       "      <td>17.882639</td>\n",
       "      <td>0.0</td>\n",
       "      <td>6</td>\n",
       "      <td>28</td>\n",
       "      <td>1</td>\n",
       "      <td>False</td>\n",
       "      <td>True</td>\n",
       "    </tr>\n",
       "    <tr>\n",
       "      <th>179</th>\n",
       "      <td>18.314583</td>\n",
       "      <td>0.6</td>\n",
       "      <td>6</td>\n",
       "      <td>29</td>\n",
       "      <td>2</td>\n",
       "      <td>False</td>\n",
       "      <td>True</td>\n",
       "    </tr>\n",
       "    <tr>\n",
       "      <th>180</th>\n",
       "      <td>17.002778</td>\n",
       "      <td>0.0</td>\n",
       "      <td>6</td>\n",
       "      <td>30</td>\n",
       "      <td>3</td>\n",
       "      <td>False</td>\n",
       "      <td>True</td>\n",
       "    </tr>\n",
       "    <tr>\n",
       "      <th>181</th>\n",
       "      <td>18.290278</td>\n",
       "      <td>0.0</td>\n",
       "      <td>7</td>\n",
       "      <td>1</td>\n",
       "      <td>4</td>\n",
       "      <td>False</td>\n",
       "      <td>True</td>\n",
       "    </tr>\n",
       "    <tr>\n",
       "      <th>...</th>\n",
       "      <td>...</td>\n",
       "      <td>...</td>\n",
       "      <td>...</td>\n",
       "      <td>...</td>\n",
       "      <td>...</td>\n",
       "      <td>...</td>\n",
       "      <td>...</td>\n",
       "    </tr>\n",
       "    <tr>\n",
       "      <th>815</th>\n",
       "      <td>1.080556</td>\n",
       "      <td>0.0</td>\n",
       "      <td>3</td>\n",
       "      <td>26</td>\n",
       "      <td>1</td>\n",
       "      <td>False</td>\n",
       "      <td>False</td>\n",
       "    </tr>\n",
       "    <tr>\n",
       "      <th>816</th>\n",
       "      <td>3.449306</td>\n",
       "      <td>11.7</td>\n",
       "      <td>3</td>\n",
       "      <td>27</td>\n",
       "      <td>2</td>\n",
       "      <td>False</td>\n",
       "      <td>False</td>\n",
       "    </tr>\n",
       "    <tr>\n",
       "      <th>817</th>\n",
       "      <td>0.959722</td>\n",
       "      <td>15.9</td>\n",
       "      <td>3</td>\n",
       "      <td>28</td>\n",
       "      <td>3</td>\n",
       "      <td>False</td>\n",
       "      <td>False</td>\n",
       "    </tr>\n",
       "    <tr>\n",
       "      <th>818</th>\n",
       "      <td>4.364583</td>\n",
       "      <td>0.1</td>\n",
       "      <td>3</td>\n",
       "      <td>29</td>\n",
       "      <td>4</td>\n",
       "      <td>False</td>\n",
       "      <td>False</td>\n",
       "    </tr>\n",
       "    <tr>\n",
       "      <th>819</th>\n",
       "      <td>7.413194</td>\n",
       "      <td>0.0</td>\n",
       "      <td>3</td>\n",
       "      <td>30</td>\n",
       "      <td>5</td>\n",
       "      <td>True</td>\n",
       "      <td>False</td>\n",
       "    </tr>\n",
       "  </tbody>\n",
       "</table>\n",
       "<p>640 rows × 7 columns</p>\n",
       "</div>"
      ]
     },
     "execution_count": 36,
     "metadata": {},
     "output_type": "execute_result"
    }
   ],
   "execution_count": 36
  },
  {
   "cell_type": "code",
   "id": "3295fc1ac6f471cb",
   "metadata": {
    "ExecuteTime": {
     "end_time": "2024-04-06T20:17:12.668598Z",
     "start_time": "2024-04-06T20:17:12.662120Z"
    }
   },
   "source": [
    "y_data"
   ],
   "outputs": [
    {
     "data": {
      "text/plain": [
       "177    318.0\n",
       "178     66.0\n",
       "179    214.0\n",
       "180    288.0\n",
       "181    379.0\n",
       "       ...  \n",
       "815      9.0\n",
       "816     43.0\n",
       "817    864.0\n",
       "818    965.0\n",
       "819     30.0\n",
       "Name: count, Length: 640, dtype: float64"
      ]
     },
     "execution_count": 37,
     "metadata": {},
     "output_type": "execute_result"
    }
   ],
   "execution_count": 37
  },
  {
   "metadata": {},
   "cell_type": "markdown",
   "source": "### Prepare Model",
   "id": "de19ee3daf09aa00"
  },
  {
   "metadata": {
    "ExecuteTime": {
     "end_time": "2024-04-06T20:17:37.324184Z",
     "start_time": "2024-04-06T20:17:37.317946Z"
    }
   },
   "cell_type": "code",
   "source": [
    "class HikerPredictor(nn.Module):\n",
    "    def __init__(self, input_size, hidden_size_1, hidden_size_2, output_size):\n",
    "        super().__init__()\n",
    "\n",
    "        self.fc1 = nn.Linear(input_size, hidden_size_1)\n",
    "        self.relu1 = nn.ReLU()\n",
    "        self.dropout = nn.Dropout(0.2)\n",
    "        self.fc2 = nn.Linear(hidden_size_1, hidden_size_2)\n",
    "        self.relu2 = nn.ReLU()\n",
    "        self.fc3 = nn.Linear(hidden_size_2, output_size)\n",
    "        self.softplus = nn.Softplus()\n",
    "\n",
    "        self.double()\n",
    "\n",
    "    def forward(self, x):\n",
    "        x = self.fc1(x)\n",
    "        x = self.relu1(x)\n",
    "        x = self.dropout(x)\n",
    "        x = self.fc2(x)\n",
    "        x = self.relu2(x)\n",
    "        x = self.fc3(x)\n",
    "        x = self.softplus(x)\n",
    "        return x"
   ],
   "id": "bf7ecf5a16bd040d",
   "outputs": [],
   "execution_count": 38
  },
  {
   "cell_type": "code",
   "id": "bb790d901eb714d5",
   "metadata": {
    "ExecuteTime": {
     "end_time": "2024-04-06T20:17:39.010194Z",
     "start_time": "2024-04-06T20:17:39.004340Z"
    }
   },
   "source": [
    "# Instantiate the model\n",
    "input_size = len(features)\n",
    "hidden_size_1 = 64\n",
    "hidden_size_2 = 32\n",
    "output_size = 1\n",
    "model = HikerPredictor(input_size, hidden_size_1, hidden_size_2, output_size)"
   ],
   "outputs": [],
   "execution_count": 39
  },
  {
   "cell_type": "code",
   "id": "692e2a7521e364b1",
   "metadata": {
    "ExecuteTime": {
     "end_time": "2024-04-06T20:17:40.677237Z",
     "start_time": "2024-04-06T20:17:39.565305Z"
    }
   },
   "source": [
    "# Define loss function and optimizer\n",
    "criterion = nn.MSELoss()\n",
    "optimizer = optim.Adam(model.parameters(), lr=0.0001)"
   ],
   "outputs": [],
   "execution_count": 40
  },
  {
   "metadata": {},
   "cell_type": "markdown",
   "source": "### Load Model",
   "id": "ad4583dde4f42f7b"
  },
  {
   "metadata": {
    "ExecuteTime": {
     "end_time": "2024-04-06T20:24:16.537231Z",
     "start_time": "2024-04-06T20:24:16.528921Z"
    }
   },
   "cell_type": "code",
   "source": [
    "# Load our scaler\n",
    "scaler = load(f\"../models/{location}-{revision:0>2}.bin\")\n",
    "\n",
    "# Load our model\n",
    "model.load_state_dict(torch.load(f\"../models/{location}-{revision:0>2}.pth\"))\n",
    "model.eval()"
   ],
   "id": "abb7500282b4da4e",
   "outputs": [
    {
     "data": {
      "text/plain": [
       "HikerPredictor(\n",
       "  (fc1): Linear(in_features=7, out_features=64, bias=True)\n",
       "  (relu1): ReLU()\n",
       "  (dropout): Dropout(p=0.2, inplace=False)\n",
       "  (fc2): Linear(in_features=64, out_features=32, bias=True)\n",
       "  (relu2): ReLU()\n",
       "  (fc3): Linear(in_features=32, out_features=1, bias=True)\n",
       "  (softplus): Softplus(beta=1, threshold=20)\n",
       ")"
      ]
     },
     "execution_count": 47,
     "metadata": {},
     "output_type": "execute_result"
    }
   ],
   "execution_count": 47
  },
  {
   "metadata": {},
   "cell_type": "markdown",
   "source": "### Evaluate Model",
   "id": "7a19c80235e347cd"
  },
  {
   "cell_type": "code",
   "id": "3a7470b8",
   "metadata": {
    "ExecuteTime": {
     "end_time": "2024-04-06T20:22:52.826714Z",
     "start_time": "2024-04-06T20:22:51.297067Z"
    }
   },
   "source": [
    "# Generate for each date\n",
    "predictions = []\n",
    "\n",
    "for _, neki in data.iterrows():\n",
    "    neki2 = data.loc[data[\"datetime\"] == neki[\"datetime\"]]\n",
    "    parameters = scaler.transform(neki2[features])\n",
    "    with torch.no_grad():\n",
    "        input_features = torch.tensor([parameters], dtype=torch.float64)\n",
    "        predicted_count = model(input_features)\n",
    "        predictions.append(f\"{neki['datetime']},{float(predicted_count)}\\n\")\n",
    "\n",
    "with open(f\"../predictions/{location}-02.csv\", \"w\") as file:\n",
    "    file.writelines(predictions)"
   ],
   "outputs": [],
   "execution_count": 44
  }
 ],
 "metadata": {
  "kernelspec": {
   "display_name": "Python 3",
   "language": "python",
   "name": "python3"
  },
  "language_info": {
   "codemirror_mode": {
    "name": "ipython",
    "version": 3
   },
   "file_extension": ".py",
   "mimetype": "text/x-python",
   "name": "python",
   "nbconvert_exporter": "python",
   "pygments_lexer": "ipython3",
   "version": "3.11.5"
  }
 },
 "nbformat": 4,
 "nbformat_minor": 5
}
