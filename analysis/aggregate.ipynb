{
 "cells": [
  {
   "cell_type": "code",
   "id": "initial_id",
   "metadata": {
    "collapsed": true,
    "ExecuteTime": {
     "end_time": "2024-04-06T12:24:26.051879Z",
     "start_time": "2024-04-06T12:24:25.351919Z"
    }
   },
   "source": [
    "import pandas as pd\n",
    "import glob"
   ],
   "outputs": [],
   "execution_count": 1
  },
  {
   "metadata": {
    "ExecuteTime": {
     "end_time": "2024-04-06T12:24:26.061829Z",
     "start_time": "2024-04-06T12:24:26.054876Z"
    }
   },
   "cell_type": "code",
   "source": [
    "locations = [\n",
    "    \"kum\",\n",
    "    \"lovrenska-jezera\",\n",
    "    \"osp\",\n",
    "    \"storzic\",\n",
    "    \"vrsic\",\n",
    "]\n",
    "\n",
    "years = [\n",
    "    2022,\n",
    "    2023,\n",
    "]"
   ],
   "id": "c2328645b58a2e6f",
   "outputs": [],
   "execution_count": 2
  },
  {
   "metadata": {
    "ExecuteTime": {
     "end_time": "2024-04-06T13:10:31.572541Z",
     "start_time": "2024-04-06T13:10:30.563091Z"
    }
   },
   "cell_type": "code",
   "source": [
    "for location in locations:\n",
    "    aggregated = pd.DataFrame(columns=[\"location\", \"datetime\", \"count\"])\n",
    "\n",
    "    for year in years:\n",
    "        filenames = glob.glob(f\"../data/hikers/{year}/{location}-*.csv\")\n",
    "\n",
    "        for filename in filenames:\n",
    "            print(\"PROCESSING\", filename)\n",
    "            \n",
    "            # Read dataframe from CSV and process columns\n",
    "            df = pd.read_csv(filename, header=0).rename(columns={\"datum\": \"datetime\", \"vhodi\": \"inputs\", \"izhodi\": \"outputs\"})\n",
    "\n",
    "            # Convert the first column to datetime and set it as the index\n",
    "            df[\"datetime\"] = pd.to_datetime(df[\"datetime\"])\n",
    "            df.set_index(\"datetime\", inplace=True)\n",
    "\n",
    "            # Sum both counts and remove individual ones\n",
    "            df[\"count\"] = df[\"inputs\"] + df[\"outputs\"]\n",
    "            del df[\"inputs\"]\n",
    "            del df[\"outputs\"]\n",
    "\n",
    "            # Aggregate data per hour and reset index back\n",
    "            resampled = df.resample(\"D\").sum()\n",
    "            resampled = resampled.reset_index()\n",
    "\n",
    "            # Add location column\n",
    "            resampled[\"location\"] = location\n",
    "\n",
    "            # Append to the main dataframe\n",
    "            aggregated = pd.concat([aggregated, resampled])\n",
    "\n",
    "    # print(aggregated)\n",
    "\n",
    "    # Save the aggregated data to a new CSV file\n",
    "    aggregated.to_csv(f\"../data/hikers/aggregated/{location}.csv\", index=False)"
   ],
   "id": "f82e3bb7713941f0",
   "outputs": [
    {
     "name": "stdout",
     "output_type": "stream",
     "text": [
      "PROCESSING ../data/hikers/2022\\kum-cebulova-dolina-zagorje.csv\n",
      "PROCESSING ../data/hikers/2022\\kum-cebulova-dolina.csv\n",
      "PROCESSING ../data/hikers/2022\\kum-hrastnik.csv\n",
      "PROCESSING ../data/hikers/2022\\kum-mali-kum.csv\n",
      "PROCESSING ../data/hikers/2022\\kum-skratova-dolina.csv\n",
      "PROCESSING ../data/hikers/2022\\kum-trotovska-dolina.csv\n",
      "PROCESSING ../data/hikers/2023\\kum-cebulova-dolina.csv\n",
      "PROCESSING ../data/hikers/2023\\kum-hrastnik.csv\n",
      "PROCESSING ../data/hikers/2023\\kum-mali-kum.csv\n",
      "PROCESSING ../data/hikers/2023\\kum-skratova-dolina.csv\n",
      "PROCESSING ../data/hikers/2023\\kum-trotovska-dolina.csv\n"
     ]
    },
    {
     "name": "stderr",
     "output_type": "stream",
     "text": [
      "C:\\Users\\filips\\AppData\\Local\\Temp\\ipykernel_16712\\1443498763.py:30: FutureWarning: The behavior of DataFrame concatenation with empty or all-NA entries is deprecated. In a future version, this will no longer exclude empty or all-NA columns when determining the result dtypes. To retain the old behavior, exclude the relevant entries before the concat operation.\n",
      "  aggregated = pd.concat([aggregated, resampled])\n"
     ]
    },
    {
     "name": "stdout",
     "output_type": "stream",
     "text": [
      "PROCESSING ../data/hikers/2022\\lovrenska-jezera-bivak-rogla.csv\n",
      "PROCESSING ../data/hikers/2022\\lovrenska-jezera-pesek.csv\n",
      "PROCESSING ../data/hikers/2022\\lovrenska-jezera-planinka-razpotje.csv\n",
      "PROCESSING ../data/hikers/2022\\lovrenska-jezera-ribniska-koca.csv\n",
      "PROCESSING ../data/hikers/2023\\lovrenska-jezera-bivak-rogla.csv\n",
      "PROCESSING ../data/hikers/2023\\lovrenska-jezera-pesek.csv\n",
      "PROCESSING ../data/hikers/2023\\lovrenska-jezera-planinka-razpotje.csv\n",
      "PROCESSING ../data/hikers/2023\\lovrenska-jezera-ribniska-koca.csv\n"
     ]
    },
    {
     "name": "stderr",
     "output_type": "stream",
     "text": [
      "C:\\Users\\filips\\AppData\\Local\\Temp\\ipykernel_16712\\1443498763.py:30: FutureWarning: The behavior of DataFrame concatenation with empty or all-NA entries is deprecated. In a future version, this will no longer exclude empty or all-NA columns when determining the result dtypes. To retain the old behavior, exclude the relevant entries before the concat operation.\n",
      "  aggregated = pd.concat([aggregated, resampled])\n"
     ]
    },
    {
     "name": "stdout",
     "output_type": "stream",
     "text": [
      "PROCESSING ../data/hikers/2022\\osp-breg.csv\n",
      "PROCESSING ../data/hikers/2022\\osp-misjapec.csv\n",
      "PROCESSING ../data/hikers/2022\\osp-plezalisce.csv\n",
      "PROCESSING ../data/hikers/2022\\osp-socerb.csv\n",
      "PROCESSING ../data/hikers/2022\\osp-tinijan.csv\n",
      "PROCESSING ../data/hikers/2023\\osp-breg.csv\n",
      "PROCESSING ../data/hikers/2023\\osp-misjapec.csv\n",
      "PROCESSING ../data/hikers/2023\\osp-plezalisce.csv\n",
      "PROCESSING ../data/hikers/2023\\osp-socerb.csv\n",
      "PROCESSING ../data/hikers/2023\\osp-tinijan.csv\n",
      "PROCESSING ../data/hikers/2022\\storzic-bivak-v-storzicu.csv\n",
      "PROCESSING ../data/hikers/2022\\storzic-dom-pod-storzicem.csv\n",
      "PROCESSING ../data/hikers/2022\\storzic-kalisce.csv\n"
     ]
    },
    {
     "name": "stderr",
     "output_type": "stream",
     "text": [
      "C:\\Users\\filips\\AppData\\Local\\Temp\\ipykernel_16712\\1443498763.py:30: FutureWarning: The behavior of DataFrame concatenation with empty or all-NA entries is deprecated. In a future version, this will no longer exclude empty or all-NA columns when determining the result dtypes. To retain the old behavior, exclude the relevant entries before the concat operation.\n",
      "  aggregated = pd.concat([aggregated, resampled])\n",
      "C:\\Users\\filips\\AppData\\Local\\Temp\\ipykernel_16712\\1443498763.py:30: FutureWarning: The behavior of DataFrame concatenation with empty or all-NA entries is deprecated. In a future version, this will no longer exclude empty or all-NA columns when determining the result dtypes. To retain the old behavior, exclude the relevant entries before the concat operation.\n",
      "  aggregated = pd.concat([aggregated, resampled])\n"
     ]
    },
    {
     "name": "stdout",
     "output_type": "stream",
     "text": [
      "PROCESSING ../data/hikers/2022\\storzic-planina-javornik.csv\n",
      "PROCESSING ../data/hikers/2022\\storzic-skarjev-rob.csv\n",
      "PROCESSING ../data/hikers/2022\\storzic-velika-planina.csv\n",
      "PROCESSING ../data/hikers/2023\\storzic-bivak-v-storzicu.csv\n",
      "PROCESSING ../data/hikers/2023\\storzic-dom-pod-storzicem.csv\n",
      "PROCESSING ../data/hikers/2023\\storzic-kalisce.csv\n",
      "PROCESSING ../data/hikers/2023\\storzic-planina-javornik.csv\n",
      "PROCESSING ../data/hikers/2023\\storzic-skarjev-rob.csv\n",
      "PROCESSING ../data/hikers/2023\\storzic-velika-planina.csv\n",
      "PROCESSING ../data/hikers/2022\\vrsic-mala-mojstrovka-hanzova.csv\n",
      "PROCESSING ../data/hikers/2022\\vrsic-mala-mojstrovka-obicajna.csv\n",
      "PROCESSING ../data/hikers/2022\\vrsic-pod-spickom.csv\n",
      "PROCESSING ../data/hikers/2022\\vrsic-prisojnik-hanzova.csv\n",
      "PROCESSING ../data/hikers/2022\\vrsic-prisojnik-kopiscarjeva.csv\n",
      "PROCESSING ../data/hikers/2022\\vrsic-sedlo-za-sovno-glavo.csv\n",
      "PROCESSING ../data/hikers/2022\\vrsic-slemenova-spica.csv\n",
      "PROCESSING ../data/hikers/2022\\vrsic-trenta.csv\n",
      "PROCESSING ../data/hikers/2023\\vrsic-mala-mojstrovka-hanzova.csv\n",
      "PROCESSING ../data/hikers/2023\\vrsic-mala-mojstrovka-obicajna.csv\n",
      "PROCESSING ../data/hikers/2023\\vrsic-pod-spickom.csv\n",
      "PROCESSING ../data/hikers/2023\\vrsic-prisojnik-hanzova.csv\n",
      "PROCESSING ../data/hikers/2023\\vrsic-prisojnik-kopiscarjeva.csv\n",
      "PROCESSING ../data/hikers/2023\\vrsic-sedlo-za-sovno-glavo.csv\n",
      "PROCESSING ../data/hikers/2023\\vrsic-slemenova-spica.csv\n",
      "PROCESSING ../data/hikers/2023\\vrsic-trenta.csv\n"
     ]
    },
    {
     "name": "stderr",
     "output_type": "stream",
     "text": [
      "C:\\Users\\filips\\AppData\\Local\\Temp\\ipykernel_16712\\1443498763.py:30: FutureWarning: The behavior of DataFrame concatenation with empty or all-NA entries is deprecated. In a future version, this will no longer exclude empty or all-NA columns when determining the result dtypes. To retain the old behavior, exclude the relevant entries before the concat operation.\n",
      "  aggregated = pd.concat([aggregated, resampled])\n"
     ]
    }
   ],
   "execution_count": 5
  },
  {
   "metadata": {},
   "cell_type": "code",
   "outputs": [],
   "execution_count": null,
   "source": "",
   "id": "b7691b82f625725a"
  }
 ],
 "metadata": {
  "kernelspec": {
   "display_name": "Python 3",
   "language": "python",
   "name": "python3"
  },
  "language_info": {
   "codemirror_mode": {
    "name": "ipython",
    "version": 2
   },
   "file_extension": ".py",
   "mimetype": "text/x-python",
   "name": "python",
   "nbconvert_exporter": "python",
   "pygments_lexer": "ipython2",
   "version": "2.7.6"
  }
 },
 "nbformat": 4,
 "nbformat_minor": 5
}
