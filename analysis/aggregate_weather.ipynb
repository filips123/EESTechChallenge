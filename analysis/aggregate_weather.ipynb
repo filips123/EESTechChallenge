{
 "cells": [
  {
   "cell_type": "code",
   "id": "initial_id",
   "metadata": {
    "collapsed": true,
    "ExecuteTime": {
     "end_time": "2024-04-06T17:46:29.868177Z",
     "start_time": "2024-04-06T17:46:29.864171Z"
    }
   },
   "source": "import pandas as pd",
   "outputs": [],
   "execution_count": 4
  },
  {
   "metadata": {
    "ExecuteTime": {
     "end_time": "2024-04-06T17:46:30.205425Z",
     "start_time": "2024-04-06T17:46:30.200222Z"
    }
   },
   "cell_type": "code",
   "source": [
    "locations = [\n",
    "    \"kum\",\n",
    "    \"lovrenska-jezera\",\n",
    "    \"osp\",\n",
    "    \"storzic\",\n",
    "    \"vrsic\",\n",
    "]"
   ],
   "id": "c2328645b58a2e6f",
   "outputs": [],
   "execution_count": 5
  },
  {
   "metadata": {
    "ExecuteTime": {
     "end_time": "2024-04-06T17:46:32.007664Z",
     "start_time": "2024-04-06T17:46:30.820487Z"
    }
   },
   "cell_type": "code",
   "source": [
    "for location in locations:\n",
    "    filename = f\"../data/weather/raw/{location}.csv\"\n",
    "    print(\"PROCESSING\", filename)\n",
    "    \n",
    "    # Read dataframe from CSV and process columns\n",
    "    df = (pd.read_csv(filename, header=0)\n",
    "          .rename(columns={\" valid\": \"datetime\", \"povp. T [°C]\": \"temperature\", \"količina padavin [mm]\": \"rain\"})\n",
    "          .filter([\"datetime\", \"temperature\", \"rain\"]))\n",
    "\n",
    "    # Convert the first column to datetime and set it as the index\n",
    "    df[\"datetime\"] = pd.to_datetime(df[\"datetime\"])\n",
    "    df.set_index(\"datetime\", inplace=True)\n",
    "\n",
    "    # Aggregate data per hour and reset index back\n",
    "    resampled = df.resample(\"D\").mean()\n",
    "    resampled = resampled.reset_index()\n",
    "\n",
    "    # Add location column\n",
    "    resampled[\"location\"] = location\n",
    "\n",
    "    # Save the data to a new CSV file\n",
    "    resampled.to_csv(f\"../data/weather/aggregated/{location}.csv\", index=False)"
   ],
   "id": "f82e3bb7713941f0",
   "outputs": [
    {
     "name": "stdout",
     "output_type": "stream",
     "text": [
      "PROCESSING ../data/weather/raw/kum.csv\n",
      "PROCESSING ../data/weather/raw/lovrenska-jezera.csv\n",
      "PROCESSING ../data/weather/raw/osp.csv\n",
      "PROCESSING ../data/weather/raw/storzic.csv\n",
      "PROCESSING ../data/weather/raw/vrsic.csv\n"
     ]
    }
   ],
   "execution_count": 6
  },
  {
   "metadata": {},
   "cell_type": "code",
   "outputs": [],
   "execution_count": null,
   "source": "",
   "id": "3aeede8e59675567"
  }
 ],
 "metadata": {
  "kernelspec": {
   "display_name": "Python 3",
   "language": "python",
   "name": "python3"
  },
  "language_info": {
   "codemirror_mode": {
    "name": "ipython",
    "version": 2
   },
   "file_extension": ".py",
   "mimetype": "text/x-python",
   "name": "python",
   "nbconvert_exporter": "python",
   "pygments_lexer": "ipython2",
   "version": "2.7.6"
  }
 },
 "nbformat": 4,
 "nbformat_minor": 5
}
