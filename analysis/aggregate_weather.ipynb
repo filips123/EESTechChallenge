{
 "cells": [
  {
   "cell_type": "code",
   "id": "initial_id",
   "metadata": {
    "collapsed": true,
    "ExecuteTime": {
     "end_time": "2024-04-06T18:38:35.019955Z",
     "start_time": "2024-04-06T18:38:35.013686Z"
    }
   },
   "source": "import pandas as pd",
   "outputs": [],
   "execution_count": 7
  },
  {
   "metadata": {
    "ExecuteTime": {
     "end_time": "2024-04-06T18:38:35.519857Z",
     "start_time": "2024-04-06T18:38:35.515883Z"
    }
   },
   "cell_type": "code",
   "source": [
    "locations = [\n",
    "    \"kum\",\n",
    "    \"lovrenska-jezera\",\n",
    "    \"osp\",\n",
    "    \"storzic\",\n",
    "    \"vrsic\",\n",
    "]"
   ],
   "id": "c2328645b58a2e6f",
   "outputs": [],
   "execution_count": 8
  },
  {
   "metadata": {
    "ExecuteTime": {
     "end_time": "2024-04-06T18:52:37.878783Z",
     "start_time": "2024-04-06T18:52:36.698883Z"
    }
   },
   "cell_type": "code",
   "source": [
    "for location in locations:\n",
    "    filename = f\"../data/weather/raw/{location}.csv\"\n",
    "    print(\"PROCESSING\", filename)\n",
    "    \n",
    "    # Read dataframe from CSV and process columns\n",
    "    df = (pd.read_csv(filename, header=0)\n",
    "          .rename(columns={\" valid\": \"datetime\", \"povp. T [°C]\": \"temperature\", \"količina padavin [mm]\": \"rain\"})\n",
    "          .filter([\"datetime\", \"temperature\", \"rain\"]))\n",
    "\n",
    "    # Convert the first column to datetime and set it as the index\n",
    "    df[\"datetime\"] = pd.to_datetime(df[\"datetime\"])\n",
    "    df.set_index(\"datetime\", inplace=True)\n",
    "\n",
    "    # Aggregate data per hour and reset index back\n",
    "    resampled = df.resample(\"D\").agg({\"temperature\": \"mean\", \"rain\": \"sum\"})\n",
    "    resampled = resampled.reset_index()\n",
    "\n",
    "    # Add location column\n",
    "    resampled[\"location\"] = location\n",
    "\n",
    "    # Save the data to a new CSV file\n",
    "    resampled.to_csv(f\"../data/weather/aggregated/{location}.csv\", columns=[\"location\", \"datetime\", \"temperature\", \"rain\"], index=False)"
   ],
   "id": "f82e3bb7713941f0",
   "outputs": [
    {
     "name": "stdout",
     "output_type": "stream",
     "text": [
      "PROCESSING ../data/weather/raw/kum.csv\n",
      "PROCESSING ../data/weather/raw/lovrenska-jezera.csv\n",
      "PROCESSING ../data/weather/raw/osp.csv\n",
      "PROCESSING ../data/weather/raw/storzic.csv\n",
      "PROCESSING ../data/weather/raw/vrsic.csv\n"
     ]
    }
   ],
   "execution_count": 11
  }
 ],
 "metadata": {
  "kernelspec": {
   "display_name": "Python 3",
   "language": "python",
   "name": "python3"
  },
  "language_info": {
   "codemirror_mode": {
    "name": "ipython",
    "version": 2
   },
   "file_extension": ".py",
   "mimetype": "text/x-python",
   "name": "python",
   "nbconvert_exporter": "python",
   "pygments_lexer": "ipython2",
   "version": "2.7.6"
  }
 },
 "nbformat": 4,
 "nbformat_minor": 5
}
